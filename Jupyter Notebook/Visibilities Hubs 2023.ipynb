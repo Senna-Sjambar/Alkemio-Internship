{
 "cells": [
  {
   "cell_type": "markdown",
   "id": "893137e1",
   "metadata": {},
   "source": [
    "# Get the visibility of the community's on the platform"
   ]
  },
  {
   "cell_type": "markdown",
   "id": "4c691aca",
   "metadata": {},
   "source": [
    "Import necessary library's"
   ]
  },
  {
   "cell_type": "code",
   "execution_count": 1,
   "id": "27bb687f",
   "metadata": {},
   "outputs": [],
   "source": [
    "import pandas as pd\n",
    "import json\n",
    "from pandas import json_normalize"
   ]
  },
  {
   "attachments": {
    "image-2.png": {
     "image/png": "[encoded data removed]"
    }
   },
   "cell_type": "markdown",
   "id": "da5a9d14",
   "metadata": {},
   "source": [
    "To get the visibility of the community's it is necessary to ask this information on the graphQL-playground: https://alkem.io/graphql with the following query:<br>\n",
    "![image-2.png](attachment:image-2.png)"
   ]
  },
  {
   "cell_type": "markdown",
   "id": "894dbafe",
   "metadata": {},
   "source": [
    "Insert the aquired data underneath: The data that is a example of what the inserted data should look like"
   ]
  },
  {
   "cell_type": "code",
   "execution_count": 2,
   "id": "d363f259",
   "metadata": {},
   "outputs": [],
   "source": [
    "data= '''\n",
    "{\n",
    "    \"hubs\": [\n",
    "      {\n",
    "        \"id\": \"1234\",\n",
    "        \"profile\": {\n",
    "          \"displayName\": \"Hub1\"\n",
    "        },\n",
    "        \"visibility\": \"ACTIVE\",\n",
    "        \"authorization\": {\n",
    "          \"anonymousReadAccess\": true\n",
    "        }\n",
    "      },\n",
    "      {\n",
    "        \"id\": \"4567\",\n",
    "        \"profile\": {\n",
    "          \"displayName\": \"Hub2\"\n",
    "        },\n",
    "        \"visibility\": \"ACTIVE\",\n",
    "        \"authorization\": {\n",
    "          \"anonymousReadAccess\": false\n",
    "        }\n",
    "      }\n",
    "    ],\n",
    "\"status\":[\"ok\"]\n",
    "  }\n",
    "'''"
   ]
  },
  {
   "cell_type": "markdown",
   "id": "d556da0e",
   "metadata": {},
   "source": [
    "export the data to a dataframe"
   ]
  },
  {
   "cell_type": "code",
   "execution_count": 4,
   "id": "a78554d0",
   "metadata": {},
   "outputs": [],
   "source": [
    "date=json.loads(data)\n",
    "df = json_normalize(date['hubs'])"
   ]
  },
  {
   "cell_type": "markdown",
   "id": "717f6d9e",
   "metadata": {},
   "source": [
    "rename the columns"
   ]
  },
  {
   "cell_type": "code",
   "execution_count": 7,
   "id": "21b44746",
   "metadata": {},
   "outputs": [],
   "source": [
    "df.columns = ['ID' ,'visibility', \"displayName\", 'openAccess']"
   ]
  },
  {
   "cell_type": "markdown",
   "id": "74d16a9c",
   "metadata": {},
   "source": [
    "export the dataframe to a csv file"
   ]
  },
  {
   "cell_type": "code",
   "execution_count": 9,
   "id": "5ab8fc40",
   "metadata": {},
   "outputs": [],
   "source": [
    "df.to_csv('visibility_hubs_2023.csv')"
   ]
  }
 ],
 "metadata": {
  "kernelspec": {
   "display_name": "Python 3",
   "language": "python",
   "name": "python3"
  },
  "language_info": {
   "codemirror_mode": {
    "name": "ipython",
    "version": 3
   },
   "file_extension": ".py",
   "mimetype": "text/x-python",
   "name": "python",
   "nbconvert_exporter": "python",
   "pygments_lexer": "ipython3",
   "version": "3.8.8"
  }
 },
 "nbformat": 4,
 "nbformat_minor": 5
}
