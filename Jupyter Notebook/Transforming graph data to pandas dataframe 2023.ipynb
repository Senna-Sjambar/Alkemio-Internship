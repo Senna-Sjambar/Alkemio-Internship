{
 "cells": [
  {
   "cell_type": "markdown",
   "id": "3f724e55",
   "metadata": {},
   "source": [
    "# Transforming graph data to pandas dataframe"
   ]
  },
  {
   "cell_type": "markdown",
   "id": "d3277af2",
   "metadata": {},
   "source": [
    "To make a pandas dataframe from the graphdata it is first necessary to import the data. How to do this is explained on: <br> https://github.com/alkem-io/analytics-playground "
   ]
  },
  {
   "cell_type": "code",
   "execution_count": 2,
   "id": "27122eed",
   "metadata": {},
   "outputs": [],
   "source": [
    "%run Functions.ipynb"
   ]
  },
  {
   "cell_type": "markdown",
   "id": "2d83e3a6",
   "metadata": {},
   "source": [
    "To use some of the funtions used in this notebook you first need to download the Functions notebook, which is available in jupyter notebook and spyder."
   ]
  },
  {
   "cell_type": "code",
   "execution_count": 3,
   "id": "158d2bad",
   "metadata": {},
   "outputs": [],
   "source": [
    "import pandas as pd\n",
    "import json\n",
    "from pandas import json_normalize"
   ]
  },
  {
   "cell_type": "markdown",
   "id": "007cf3fb",
   "metadata": {},
   "source": [
    "When you have downloaded the matrix as JSON-format, which is used to create the graph. With open you can open the data to make it as a pandas dataframe. <br><br>\n",
    "Within the variable_name['nodes'] it is possible to reach the information of the hubs, challenges, opportunities and contributors"
   ]
  },
  {
   "cell_type": "code",
   "execution_count": 4,
   "id": "3b778dd5",
   "metadata": {},
   "outputs": [],
   "source": [
    "with open('transformed-graph-data-new.json', 'r', encoding='utf-8') as file:\n",
    "    variable_name = json.load(file)"
   ]
  },
  {
   "cell_type": "markdown",
   "id": "386ae435",
   "metadata": {},
   "source": [
    "### Node information"
   ]
  },
  {
   "cell_type": "markdown",
   "id": "21a0bc89",
   "metadata": {},
   "source": [
    "Get all the node information of the hubs, contributors, challenges and opportunities"
   ]
  },
  {
   "cell_type": "code",
   "execution_count": 6,
   "id": "ff011e65",
   "metadata": {},
   "outputs": [],
   "source": [
    "nodes = variable_name['nodes']"
   ]
  },
  {
   "cell_type": "code",
   "execution_count": 26,
   "id": "a46ccc6c",
   "metadata": {},
   "outputs": [],
   "source": [
    "hubs = json_normalize(nodes['hubs'])"
   ]
  },
  {
   "cell_type": "code",
   "execution_count": 10,
   "id": "1b433c33",
   "metadata": {},
   "outputs": [],
   "source": [
    "contributors = json_normalize(nodes['contributors'])"
   ]
  },
  {
   "cell_type": "code",
   "execution_count": 30,
   "id": "e16c8a13",
   "metadata": {},
   "outputs": [],
   "source": [
    "challenges = json_normalize(nodes['challenges'])"
   ]
  },
  {
   "cell_type": "code",
   "execution_count": 34,
   "id": "e20565c9",
   "metadata": {},
   "outputs": [],
   "source": [
    "opportunities = json_normalize(nodes['opportunities'])"
   ]
  },
  {
   "cell_type": "markdown",
   "id": "722ffb4b",
   "metadata": {},
   "source": [
    "Save the hub, challenge, opportunity and contributors as csv so you can reach them any time necessary"
   ]
  },
  {
   "cell_type": "code",
   "execution_count": 22,
   "id": "674e996d",
   "metadata": {},
   "outputs": [],
   "source": [
    "hubs.to_csv('graph_hubs_2023')\n",
    "challenges.to_csv('graph_challenges_2023')\n",
    "opportunities.to_csv('graph_opportunities_2023')\n",
    "contributors.to_csv('graph_contributors_2023')"
   ]
  },
  {
   "cell_type": "code",
   "execution_count": 23,
   "id": "393b398a",
   "metadata": {},
   "outputs": [
    {
     "name": "stdout",
     "output_type": "stream",
     "text": [
      "column available for the hubs, challenges, opportunities and contributors are:\n",
      "id\n",
      "nameID\n",
      "displayName\n",
      "type\n",
      "group\n",
      "weight\n",
      "url\n",
      "avatar\n",
      "country\n",
      "city\n",
      "lon\n",
      "lat\n",
      "leadOrgsCount\n"
     ]
    }
   ],
   "source": [
    "print('column available for the hubs, challenges, opportunities and contributors are:')\n",
    "for i in hubs.columns:\n",
    "    print(i)"
   ]
  },
  {
   "cell_type": "code",
   "execution_count": 24,
   "id": "7f957895",
   "metadata": {},
   "outputs": [
    {
     "name": "stdout",
     "output_type": "stream",
     "text": [
      "amount of hubs: 22\n",
      "amount of challenges: 68\n",
      "amount of opportunities: 140\n",
      "amount of contributors: 874\n"
     ]
    }
   ],
   "source": [
    "print(f'amount of hubs: {len(hubs)}')\n",
    "print(f'amount of challenges: {len(challenges)}')\n",
    "print(f'amount of opportunities: {len(opportunities)}')\n",
    "print(f'amount of contributors: {len(contributors)}')"
   ]
  },
  {
   "cell_type": "markdown",
   "id": "4f2bdbaf",
   "metadata": {},
   "source": [
    "### Edge information"
   ]
  },
  {
   "cell_type": "code",
   "execution_count": 25,
   "id": "6e11cda8",
   "metadata": {},
   "outputs": [],
   "source": [
    "edges = json_normalize(variable_name['edges'])"
   ]
  },
  {
   "cell_type": "code",
   "execution_count": 26,
   "id": "a3376ac4",
   "metadata": {},
   "outputs": [
    {
     "name": "stdout",
     "output_type": "stream",
     "text": [
      "column available for the edges are:\n",
      "sourceID\n",
      "targetID\n",
      "source\n",
      "target\n",
      "weight\n",
      "type\n",
      "group\n"
     ]
    }
   ],
   "source": [
    "print('column available for the edges are:')\n",
    "for i in edges.columns:\n",
    "    print(i)"
   ]
  },
  {
   "cell_type": "markdown",
   "id": "b54e1f4a",
   "metadata": {},
   "source": [
    "The sourceID = source, and targetID=target"
   ]
  },
  {
   "cell_type": "code",
   "execution_count": 27,
   "id": "cd805ab7",
   "metadata": {},
   "outputs": [],
   "source": []
  },
  {
   "cell_type": "markdown",
   "id": "8aa26887",
   "metadata": {},
   "source": [
    "## Connect sourceID with node names\n",
    "the goal for creating this dataframe is to make a dataframe which shows in the rows the different users and in the journeys the communities. The value is 1 if a user is a member of the journey. The only infromation that is kept of the hubs, challenges, opportunity and contributors are the id, name, type and group"
   ]
  },
  {
   "cell_type": "code",
   "execution_count": null,
   "id": "92bdd9f2",
   "metadata": {},
   "outputs": [],
   "source": []
  },
  {
   "cell_type": "code",
   "execution_count": 28,
   "id": "eb28c24a",
   "metadata": {},
   "outputs": [],
   "source": [
    "hubs_min = hubs.drop(['nameID','weight','url', 'avatar', 'country', 'city', 'lon', 'lat', 'leadOrgsCount'], axis=1)\n",
    "challenges_min = challenges.drop(['nameID','weight','url', 'avatar', 'country', 'city', 'lon', 'lat', 'leadOrgsCount'], axis=1)\n",
    "opportunities_min = opportunities.drop(['nameID','weight','url', 'avatar', 'country', 'city', 'lon', 'lat', 'leadOrgsCount'], axis=1)\n",
    "users_min = contributors.drop(['nameID','weight','url', 'avatar', 'country', 'city', 'lon', 'lat'], axis=1)"
   ]
  },
  {
   "cell_type": "markdown",
   "id": "bec1cd2e",
   "metadata": {},
   "source": [
    "### Connect Hubs"
   ]
  },
  {
   "cell_type": "code",
   "execution_count": 29,
   "id": "2a0f2a87",
   "metadata": {},
   "outputs": [],
   "source": [
    "merge = pd.merge(edge_min, hubs_min, left_on='source', right_on='id', how='left')"
   ]
  },
  {
   "cell_type": "code",
   "execution_count": 30,
   "id": "1212323f",
   "metadata": {},
   "outputs": [
    {
     "name": "stdout",
     "output_type": "stream",
     "text": [
      "there are 0 amount of hubs as a source node\n"
     ]
    }
   ],
   "source": [
    "amount_hubs_source = len(merge[merge['displayName'].notnull()])\n",
    "print(f'there are {amount_hubs_source} amount of hubs as a source node')"
   ]
  },
  {
   "cell_type": "code",
   "execution_count": 31,
   "id": "1fa1321e",
   "metadata": {},
   "outputs": [],
   "source": [
    "merge = merge.drop(['id'], axis=1)"
   ]
  },
  {
   "cell_type": "code",
   "execution_count": 32,
   "id": "70003013",
   "metadata": {},
   "outputs": [],
   "source": [
    "merge = merge.rename(columns={'displayName':'name Source', 'type_x':'type Edge', 'type_y':'type Source', \n",
    "                              'group_y':'group Source', 'group_x':'group Edge'})"
   ]
  },
  {
   "cell_type": "code",
   "execution_count": 33,
   "id": "10a1b53c",
   "metadata": {},
   "outputs": [
    {
     "name": "stdout",
     "output_type": "stream",
     "text": [
      "there should be 0 amount of rows\n",
      "there are 0 amount of hubs as a source node\n"
     ]
    }
   ],
   "source": [
    "test_amount_hubs_source = len(merge[merge['name Source'].notnull()])\n",
    "print(f'there should be {amount_hubs_source} amount of rows')\n",
    "print(f'there are {test_amount_hubs_source} amount of hubs as a source node')\n"
   ]
  },
  {
   "cell_type": "markdown",
   "id": "bd383532",
   "metadata": {},
   "source": [
    "### Connect Challenges"
   ]
  },
  {
   "cell_type": "code",
   "execution_count": 34,
   "id": "97e2e82b",
   "metadata": {},
   "outputs": [],
   "source": [
    "merge2 = pd.merge(merge, challenges_min, left_on='source', right_on='id', how='left')"
   ]
  },
  {
   "cell_type": "code",
   "execution_count": 35,
   "id": "fdcae757",
   "metadata": {},
   "outputs": [
    {
     "name": "stdout",
     "output_type": "stream",
     "text": [
      "there are 68 amount of challenges as a source node\n"
     ]
    }
   ],
   "source": [
    "amount_challenges_source = len(merge2[merge2['displayName'].notnull()])\n",
    "print(f'there are {amount_challenges_source} amount of challenges as a source node')"
   ]
  },
  {
   "cell_type": "code",
   "execution_count": 36,
   "id": "309de4b5",
   "metadata": {},
   "outputs": [],
   "source": [
    "merge2['name Source'] = merge2['name Source'].combine_first(merge2['displayName'])\n",
    "merge2['type Source'] = merge2['type Source'].combine_first(merge2['type'])\n",
    "merge2['group Source'] = merge2['group Source'].combine_first(merge2['group'])"
   ]
  },
  {
   "cell_type": "code",
   "execution_count": 37,
   "id": "b6e84871",
   "metadata": {},
   "outputs": [],
   "source": [
    "merge2 = merge2.drop(['id', 'displayName', 'type', 'group'], axis=1)"
   ]
  },
  {
   "cell_type": "code",
   "execution_count": 38,
   "id": "7ff322cf",
   "metadata": {},
   "outputs": [
    {
     "name": "stdout",
     "output_type": "stream",
     "text": [
      "there should be 68 amount of rows\n",
      "there are 68 amount of hubs and challenges as a source node\n"
     ]
    }
   ],
   "source": [
    "test_amount_challenges_source = len(merge2[merge2['name Source'].notnull()])\n",
    "print(f'there should be {amount_challenges_source+amount_hubs_source} amount of rows')\n",
    "print(f'there are {test_amount_challenges_source} amount of hubs and challenges as a source node')\n"
   ]
  },
  {
   "cell_type": "markdown",
   "id": "c79891a6",
   "metadata": {},
   "source": [
    "### Connect Opportunities"
   ]
  },
  {
   "cell_type": "code",
   "execution_count": 39,
   "id": "f1774db8",
   "metadata": {},
   "outputs": [],
   "source": [
    "merge3 = pd.merge(merge2, opportunities_min, left_on='source', right_on='id', how='left')"
   ]
  },
  {
   "cell_type": "code",
   "execution_count": 40,
   "id": "89b78986",
   "metadata": {},
   "outputs": [
    {
     "name": "stdout",
     "output_type": "stream",
     "text": [
      "there are 140 amount of challenges as a source node\n"
     ]
    }
   ],
   "source": [
    "amount_opportunities_source = len(merge3[merge3['displayName'].notnull()])\n",
    "print(f'there are {amount_opportunities_source} amount of challenges as a source node')"
   ]
  },
  {
   "cell_type": "code",
   "execution_count": 41,
   "id": "5fa954b8",
   "metadata": {},
   "outputs": [],
   "source": [
    "merge3['name Source'] = merge3['name Source'].combine_first(merge3['displayName'])\n",
    "merge3['type Source'] = merge3['type Source'].combine_first(merge3['type'])\n",
    "merge3['group Source'] = merge3['group Source'].combine_first(merge3['group'])"
   ]
  },
  {
   "cell_type": "code",
   "execution_count": 42,
   "id": "311f7fe4",
   "metadata": {},
   "outputs": [],
   "source": [
    "merge3 = merge3.drop(['id', 'displayName', 'type', 'group'], axis=1)"
   ]
  },
  {
   "cell_type": "code",
   "execution_count": 43,
   "id": "bf6682c3",
   "metadata": {},
   "outputs": [
    {
     "name": "stdout",
     "output_type": "stream",
     "text": [
      "there should be 140+68+0=208 amount of rows\n",
      "there are 208 amount of hubs, challenges and opportunities as a source node\n"
     ]
    }
   ],
   "source": [
    "test_amount_opportunities_source = len(merge3[merge3['name Source'].notnull()])\n",
    "print(f'there should be {amount_opportunities_source}+{+amount_challenges_source}+{amount_hubs_source}={amount_opportunities_source+amount_challenges_source+amount_hubs_source} amount of rows')\n",
    "print(f'there are {test_amount_opportunities_source} amount of hubs, challenges and opportunities as a source node')"
   ]
  },
  {
   "cell_type": "markdown",
   "id": "3f967bf1",
   "metadata": {},
   "source": [
    "### Connect Contributors"
   ]
  },
  {
   "cell_type": "code",
   "execution_count": 44,
   "id": "c0ce3342",
   "metadata": {},
   "outputs": [],
   "source": [
    "merge4 = pd.merge(merge3, users_min, left_on='source', right_on='id', how='left')"
   ]
  },
  {
   "cell_type": "code",
   "execution_count": 45,
   "id": "64e8e5af",
   "metadata": {},
   "outputs": [
    {
     "name": "stdout",
     "output_type": "stream",
     "text": [
      "there are 1363 amount of challenges as a source node\n"
     ]
    }
   ],
   "source": [
    "amount_users_source = len(merge4[merge4['displayName'].notnull()])\n",
    "print(f'there are {amount_users_source} amount of challenges as a source node')"
   ]
  },
  {
   "cell_type": "code",
   "execution_count": 46,
   "id": "ca11b7fb",
   "metadata": {},
   "outputs": [],
   "source": [
    "merge4['name Source'] = merge4['name Source'].combine_first(merge4['displayName'])\n",
    "merge4['type Source'] = merge4['type Source'].combine_first(merge4['type'])\n",
    "merge4['group Source'] = merge4['group Source'].combine_first(merge4['group'])"
   ]
  },
  {
   "cell_type": "code",
   "execution_count": 47,
   "id": "c0631df6",
   "metadata": {},
   "outputs": [],
   "source": [
    "merge4 = merge4.drop(['id', 'displayName', 'type', 'group'], axis=1)"
   ]
  },
  {
   "cell_type": "code",
   "execution_count": 48,
   "id": "82168244",
   "metadata": {},
   "outputs": [
    {
     "name": "stdout",
     "output_type": "stream",
     "text": [
      "there should be 1363+140+68+0=1571 amount of rows\n",
      "there are 1571 amount of hubs, challenges, opportunities and contributors as a source node\n"
     ]
    }
   ],
   "source": [
    "test_amount_users_source = len(merge4[merge4['name Source'].notnull()])\n",
    "print(f'there should be {amount_users_source}+{amount_opportunities_source}+{amount_challenges_source}+{amount_hubs_source}={amount_users_source+amount_opportunities_source+amount_challenges_source+amount_hubs_source} amount of rows')\n",
    "print(f'there are {test_amount_users_source} amount of hubs, challenges, opportunities and contributors as a source node')"
   ]
  },
  {
   "cell_type": "markdown",
   "id": "629e6b44",
   "metadata": {},
   "source": [
    "## Connect targetID with node names"
   ]
  },
  {
   "cell_type": "markdown",
   "id": "87da843e",
   "metadata": {},
   "source": [
    "### Hubs"
   ]
  },
  {
   "cell_type": "code",
   "execution_count": 49,
   "id": "e87e9067",
   "metadata": {},
   "outputs": [],
   "source": [
    "merge5 = pd.merge(merge4, hubs_min, left_on='target', right_on='id', how='left')"
   ]
  },
  {
   "cell_type": "code",
   "execution_count": 50,
   "id": "37efd059",
   "metadata": {
    "scrolled": true
   },
   "outputs": [
    {
     "name": "stdout",
     "output_type": "stream",
     "text": [
      "there are 616 amount of hubs as a target node\n"
     ]
    }
   ],
   "source": [
    "amount_hubs_target = len(merge5[merge5['displayName'].notnull()])\n",
    "print(f'there are {amount_hubs_target} amount of hubs as a target node')"
   ]
  },
  {
   "cell_type": "code",
   "execution_count": 51,
   "id": "b4cba95b",
   "metadata": {},
   "outputs": [],
   "source": [
    "merge5 = merge5.rename(columns={'displayName':'name Target', 'type':'type Target', 'group':'group Target'})"
   ]
  },
  {
   "cell_type": "code",
   "execution_count": 52,
   "id": "af07e491",
   "metadata": {},
   "outputs": [],
   "source": [
    "merge5 = merge5.drop(['id'], axis=1)"
   ]
  },
  {
   "cell_type": "code",
   "execution_count": 53,
   "id": "1b7f58a3",
   "metadata": {},
   "outputs": [
    {
     "name": "stdout",
     "output_type": "stream",
     "text": [
      "there should be 616 amount of rows\n",
      "there are 616 amount of hubs as a source node\n"
     ]
    }
   ],
   "source": [
    "test_amount_hubs_target= len(merge5[merge5['name Target'].notnull()])\n",
    "print(f'there should be {amount_hubs_target} amount of rows')\n",
    "print(f'there are {test_amount_hubs_target} amount of hubs as a source node')"
   ]
  },
  {
   "cell_type": "markdown",
   "id": "486e64c9",
   "metadata": {},
   "source": [
    "### Challenges"
   ]
  },
  {
   "cell_type": "code",
   "execution_count": 54,
   "id": "1ca0069c",
   "metadata": {},
   "outputs": [],
   "source": [
    "merge6 = pd.merge(merge5, challenges_min, left_on='target', right_on='id', how='left')"
   ]
  },
  {
   "cell_type": "code",
   "execution_count": 55,
   "id": "6d86505f",
   "metadata": {},
   "outputs": [
    {
     "name": "stdout",
     "output_type": "stream",
     "text": [
      "there are 547 amount of hubs as a target node\n"
     ]
    }
   ],
   "source": [
    "amount_challenges_target = len(merge6[merge6['displayName'].notnull()])\n",
    "print(f'there are {amount_challenges_target} amount of hubs as a target node')"
   ]
  },
  {
   "cell_type": "code",
   "execution_count": 56,
   "id": "908eebe6",
   "metadata": {},
   "outputs": [],
   "source": [
    "merge6['name Target'] = merge6['name Target'].combine_first(merge6['displayName'])\n",
    "merge6['type Target'] = merge6['type Target'].combine_first(merge6['type'])\n",
    "merge6['group Target'] = merge6['group Target'].combine_first(merge6['group'])"
   ]
  },
  {
   "cell_type": "code",
   "execution_count": 57,
   "id": "a9ca7e20",
   "metadata": {},
   "outputs": [],
   "source": [
    "merge6 = merge6.drop(['id', 'displayName', 'type', 'group'], axis=1)"
   ]
  },
  {
   "cell_type": "code",
   "execution_count": 58,
   "id": "370f6d88",
   "metadata": {},
   "outputs": [
    {
     "name": "stdout",
     "output_type": "stream",
     "text": [
      "there should be 547+616=1163 amount of rows\n",
      "there are 1163 amount of hubs and challenges as a target node\n"
     ]
    }
   ],
   "source": [
    "test_amount_challenges_target = len(merge6[merge6['name Target'].notnull()])\n",
    "print(f'there should be {amount_challenges_target}+{amount_hubs_target}={amount_challenges_target+amount_hubs_target} amount of rows')\n",
    "print(f'there are {test_amount_challenges_target} amount of hubs and challenges as a target node')"
   ]
  },
  {
   "cell_type": "markdown",
   "id": "5a019020",
   "metadata": {},
   "source": [
    "### Opportunities"
   ]
  },
  {
   "cell_type": "code",
   "execution_count": 59,
   "id": "3c897281",
   "metadata": {},
   "outputs": [],
   "source": [
    "merge7 = pd.merge(merge6, opportunities_min, left_on='target', right_on='id', how='left')"
   ]
  },
  {
   "cell_type": "code",
   "execution_count": 60,
   "id": "63b9a820",
   "metadata": {},
   "outputs": [
    {
     "name": "stdout",
     "output_type": "stream",
     "text": [
      "there are 408 amount of challenges as a source node\n"
     ]
    }
   ],
   "source": [
    "amount_opportunities_target = len(merge7[merge7['displayName'].notnull()])\n",
    "print(f'there are {amount_opportunities_target} amount of challenges as a source node')"
   ]
  },
  {
   "cell_type": "code",
   "execution_count": 61,
   "id": "3feaaa78",
   "metadata": {},
   "outputs": [],
   "source": [
    "merge7['name Target'] = merge7['name Target'].combine_first(merge7['displayName'])\n",
    "merge7['type Target'] = merge7['type Target'].combine_first(merge7['type'])\n",
    "merge7['group Target'] = merge7['group Target'].combine_first(merge7['group'])"
   ]
  },
  {
   "cell_type": "code",
   "execution_count": 62,
   "id": "d4eabf4d",
   "metadata": {},
   "outputs": [],
   "source": [
    "merge7 = merge7.drop(['id', 'displayName', 'type', 'group'], axis=1)"
   ]
  },
  {
   "cell_type": "code",
   "execution_count": 63,
   "id": "a2b9dd74",
   "metadata": {},
   "outputs": [
    {
     "name": "stdout",
     "output_type": "stream",
     "text": [
      "there should be 408+547+616=1571 amount of rows\n",
      "there are 1571 amount of hubs challenge and opportunities as a target node\n"
     ]
    }
   ],
   "source": [
    "test_amount_opportunities_target = len(merge7[merge7['name Target'].notnull()])\n",
    "print(f'there should be {amount_opportunities_target}+{amount_challenges_target}+{amount_hubs_target}={amount_opportunities_target+amount_challenges_target+amount_hubs_target} amount of rows')\n",
    "print(f'there are {test_amount_opportunities_target} amount of hubs challenge and opportunities as a target node')"
   ]
  },
  {
   "cell_type": "markdown",
   "id": "a9c79391",
   "metadata": {},
   "source": [
    "### Contributors"
   ]
  },
  {
   "cell_type": "code",
   "execution_count": 64,
   "id": "06127c31",
   "metadata": {},
   "outputs": [],
   "source": [
    "merge8 = pd.merge(merge7, users_min, left_on='target', right_on='id', how='left')"
   ]
  },
  {
   "cell_type": "code",
   "execution_count": 65,
   "id": "6904b74b",
   "metadata": {},
   "outputs": [
    {
     "name": "stdout",
     "output_type": "stream",
     "text": [
      "there are 0 amount of contributors as a target node\n"
     ]
    }
   ],
   "source": [
    "amount_users_target = len(merge8[merge8['displayName'].notnull()])\n",
    "print(f'there are {amount_users_target} amount of contributors as a target node')"
   ]
  },
  {
   "cell_type": "code",
   "execution_count": 66,
   "id": "f7ebd6ca",
   "metadata": {},
   "outputs": [],
   "source": [
    "merge8 = merge8.drop(['id', 'displayName', 'type', 'group'], axis=1)"
   ]
  },
  {
   "cell_type": "markdown",
   "id": "bac93312",
   "metadata": {},
   "source": [
    "## Exporting dataframe to csv"
   ]
  },
  {
   "cell_type": "code",
   "execution_count": 67,
   "id": "133b0f0d",
   "metadata": {},
   "outputs": [],
   "source": [
    "merge8.to_csv('graphdata_pandas_2023.csv', index=False)"
   ]
  },
  {
   "cell_type": "code",
   "execution_count": 68,
   "id": "3dab480b",
   "metadata": {},
   "outputs": [
    {
     "name": "stdout",
     "output_type": "stream",
     "text": [
      "column available for the dataframe are:\n",
      "source\n",
      "target\n",
      "type Edge\n",
      "group Edge\n",
      "name Source\n",
      "type Source\n",
      "group Source\n",
      "name Target\n",
      "type Target\n",
      "group Target\n"
     ]
    }
   ],
   "source": [
    "print('column available for the dataframe are:')\n",
    "for i in merge8.columns:\n",
    "    print(i)"
   ]
  },
  {
   "cell_type": "markdown",
   "id": "4b6aa5f3",
   "metadata": {},
   "source": [
    "# Making predition tabel"
   ]
  },
  {
   "cell_type": "code",
   "execution_count": 69,
   "id": "bf2a1b5b",
   "metadata": {},
   "outputs": [],
   "source": [
    "data = pd.read_csv('graphdata_pandas_2023.csv')"
   ]
  },
  {
   "cell_type": "markdown",
   "id": "46af3385",
   "metadata": {},
   "source": [
    "type of the node goes next to the name, this makes it easier to see what type a node is"
   ]
  },
  {
   "cell_type": "code",
   "execution_count": 70,
   "id": "60e6b3f5",
   "metadata": {},
   "outputs": [],
   "source": [
    "for i in range(len(data)):\n",
    "    data['name Source'][i] = data['name Source'][i] + str(\" \") + data['type Source'][i]\n",
    "    data['name Target'][i] = data['name Target'][i] + str(\" \") + data['type Target'][i]"
   ]
  },
  {
   "cell_type": "code",
   "execution_count": 71,
   "id": "077da568",
   "metadata": {},
   "outputs": [
    {
     "data": {
      "text/html": [
       "<div>\n",
       "<style scoped>\n",
       "    .dataframe tbody tr th:only-of-type {\n",
       "        vertical-align: middle;\n",
       "    }\n",
       "\n",
       "    .dataframe tbody tr th {\n",
       "        vertical-align: top;\n",
       "    }\n",
       "\n",
       "    .dataframe thead th {\n",
       "        text-align: right;\n",
       "    }\n",
       "</style>\n",
       "<table border=\"1\" class=\"dataframe\">\n",
       "  <thead>\n",
       "    <tr style=\"text-align: right;\">\n",
       "      <th></th>\n",
       "      <th>source</th>\n",
       "      <th>target</th>\n",
       "      <th>type Edge</th>\n",
       "      <th>group Edge</th>\n",
       "      <th>name Source</th>\n",
       "      <th>type Source</th>\n",
       "      <th>group Source</th>\n",
       "      <th>name Target</th>\n",
       "      <th>type Target</th>\n",
       "      <th>group Target</th>\n",
       "    </tr>\n",
       "  </thead>\n",
       "  <tbody>\n",
       "  </tbody>\n",
       "</table>\n",
       "</div>"
      ],
      "text/plain": [
       "Empty DataFrame\n",
       "Columns: [source, target, type Edge, group Edge, name Source, type Source, group Source, name Target, type Target, group Target]\n",
       "Index: []"
      ]
     },
     "execution_count": 71,
     "metadata": {},
     "output_type": "execute_result"
    }
   ],
   "source": [
    "data[data['name Source']==data['name Target']]"
   ]
  },
  {
   "cell_type": "markdown",
   "id": "322c66ee",
   "metadata": {},
   "source": [
    "There arent any source nodes and target nodes that refer to themselfes"
   ]
  },
  {
   "cell_type": "code",
   "execution_count": 72,
   "id": "3dcaa361",
   "metadata": {},
   "outputs": [
    {
     "data": {
      "text/plain": [
       "user            1256\n",
       "opportunity      140\n",
       "organization     107\n",
       "challenge         68\n",
       "Name: type Source, dtype: int64"
      ]
     },
     "execution_count": 72,
     "metadata": {},
     "output_type": "execute_result"
    }
   ],
   "source": [
    "data['type Source'].value_counts()"
   ]
  },
  {
   "cell_type": "code",
   "execution_count": 73,
   "id": "3f8710c7",
   "metadata": {},
   "outputs": [
    {
     "data": {
      "text/plain": [
       "hub            616\n",
       "challenge      547\n",
       "opportunity    408\n",
       "Name: type Target, dtype: int64"
      ]
     },
     "execution_count": 73,
     "metadata": {},
     "output_type": "execute_result"
    }
   ],
   "source": [
    "data['type Target'].value_counts()"
   ]
  },
  {
   "cell_type": "markdown",
   "id": "a86404d5",
   "metadata": {},
   "source": [
    "This seems like a lot of different journeys and contributors, but every connection a user has is put on a different row, so if a user is a member of four different communities, it is counted as 4 different users."
   ]
  },
  {
   "cell_type": "code",
   "execution_count": 74,
   "id": "033caa8e",
   "metadata": {},
   "outputs": [
    {
     "data": {
      "text/html": [
       "<div>\n",
       "<style scoped>\n",
       "    .dataframe tbody tr th:only-of-type {\n",
       "        vertical-align: middle;\n",
       "    }\n",
       "\n",
       "    .dataframe tbody tr th {\n",
       "        vertical-align: top;\n",
       "    }\n",
       "\n",
       "    .dataframe thead th {\n",
       "        text-align: right;\n",
       "    }\n",
       "</style>\n",
       "<table border=\"1\" class=\"dataframe\">\n",
       "  <thead>\n",
       "    <tr style=\"text-align: right;\">\n",
       "      <th></th>\n",
       "      <th>source</th>\n",
       "      <th>target</th>\n",
       "      <th>type Edge</th>\n",
       "      <th>group Edge</th>\n",
       "      <th>name Source</th>\n",
       "      <th>type Source</th>\n",
       "      <th>group Source</th>\n",
       "      <th>name Target</th>\n",
       "      <th>type Target</th>\n",
       "      <th>group Target</th>\n",
       "    </tr>\n",
       "  </thead>\n",
       "  <tbody>\n",
       "    <tr>\n",
       "      <th>0</th>\n",
       "      <td>01ef561d-2450-4bb5-841a-0c678ea84170</td>\n",
       "      <td>6d2fb355-5f0f-4545-b2d1-945f37ecbbb5</td>\n",
       "      <td>member</td>\n",
       "      <td>6d2fb355-5f0f-4545-b2d1-945f37ecbbb5</td>\n",
       "      <td>Marianne Schimmel user</td>\n",
       "      <td>user</td>\n",
       "      <td>contributors</td>\n",
       "      <td>Publieke dienstverlening hub</td>\n",
       "      <td>hub</td>\n",
       "      <td>6d2fb355-5f0f-4545-b2d1-945f37ecbbb5</td>\n",
       "    </tr>\n",
       "    <tr>\n",
       "      <th>1</th>\n",
       "      <td>029997d8-0a26-4de6-9cb3-356f9175d344</td>\n",
       "      <td>6d2fb355-5f0f-4545-b2d1-945f37ecbbb5</td>\n",
       "      <td>member</td>\n",
       "      <td>6d2fb355-5f0f-4545-b2d1-945f37ecbbb5</td>\n",
       "      <td>Ben Schuttenbeld user</td>\n",
       "      <td>user</td>\n",
       "      <td>contributors</td>\n",
       "      <td>Publieke dienstverlening hub</td>\n",
       "      <td>hub</td>\n",
       "      <td>6d2fb355-5f0f-4545-b2d1-945f37ecbbb5</td>\n",
       "    </tr>\n",
       "    <tr>\n",
       "      <th>2</th>\n",
       "      <td>0a105d73-fce3-4afd-a15d-bbdf109d8317</td>\n",
       "      <td>6d2fb355-5f0f-4545-b2d1-945f37ecbbb5</td>\n",
       "      <td>member</td>\n",
       "      <td>6d2fb355-5f0f-4545-b2d1-945f37ecbbb5</td>\n",
       "      <td>Wikke Alphenaar user</td>\n",
       "      <td>user</td>\n",
       "      <td>contributors</td>\n",
       "      <td>Publieke dienstverlening hub</td>\n",
       "      <td>hub</td>\n",
       "      <td>6d2fb355-5f0f-4545-b2d1-945f37ecbbb5</td>\n",
       "    </tr>\n",
       "    <tr>\n",
       "      <th>3</th>\n",
       "      <td>0bbf579f-4b91-43f7-8f80-27f65f731cdb</td>\n",
       "      <td>6d2fb355-5f0f-4545-b2d1-945f37ecbbb5</td>\n",
       "      <td>member</td>\n",
       "      <td>6d2fb355-5f0f-4545-b2d1-945f37ecbbb5</td>\n",
       "      <td>Arthur Maring user</td>\n",
       "      <td>user</td>\n",
       "      <td>contributors</td>\n",
       "      <td>Publieke dienstverlening hub</td>\n",
       "      <td>hub</td>\n",
       "      <td>6d2fb355-5f0f-4545-b2d1-945f37ecbbb5</td>\n",
       "    </tr>\n",
       "    <tr>\n",
       "      <th>4</th>\n",
       "      <td>14e509c0-96d5-4fa7-8092-f17b1096dbee</td>\n",
       "      <td>6d2fb355-5f0f-4545-b2d1-945f37ecbbb5</td>\n",
       "      <td>member</td>\n",
       "      <td>6d2fb355-5f0f-4545-b2d1-945f37ecbbb5</td>\n",
       "      <td>Martin de Bijl user</td>\n",
       "      <td>user</td>\n",
       "      <td>contributors</td>\n",
       "      <td>Publieke dienstverlening hub</td>\n",
       "      <td>hub</td>\n",
       "      <td>6d2fb355-5f0f-4545-b2d1-945f37ecbbb5</td>\n",
       "    </tr>\n",
       "    <tr>\n",
       "      <th>...</th>\n",
       "      <td>...</td>\n",
       "      <td>...</td>\n",
       "      <td>...</td>\n",
       "      <td>...</td>\n",
       "      <td>...</td>\n",
       "      <td>...</td>\n",
       "      <td>...</td>\n",
       "      <td>...</td>\n",
       "      <td>...</td>\n",
       "      <td>...</td>\n",
       "    </tr>\n",
       "    <tr>\n",
       "      <th>1566</th>\n",
       "      <td>0bc15a44-15d3-4460-9587-7a8f19a98f53</td>\n",
       "      <td>65dc2f1e-9d9b-42e0-b250-5e9f7d0d534b</td>\n",
       "      <td>member</td>\n",
       "      <td>bb9b546f-2703-475e-8410-f010f5fe7eab</td>\n",
       "      <td>Stephan Corporaal user</td>\n",
       "      <td>user</td>\n",
       "      <td>contributors</td>\n",
       "      <td>Monteurs vinden opportunity</td>\n",
       "      <td>opportunity</td>\n",
       "      <td>bb9b546f-2703-475e-8410-f010f5fe7eab</td>\n",
       "    </tr>\n",
       "    <tr>\n",
       "      <th>1567</th>\n",
       "      <td>97403d8a-58f9-45f8-884c-e8187c01786b</td>\n",
       "      <td>9fae45ff-ec64-45b5-98a6-d3652c999442</td>\n",
       "      <td>child</td>\n",
       "      <td>bb9b546f-2703-475e-8410-f010f5fe7eab</td>\n",
       "      <td>Partnerschapskaart  opportunity</td>\n",
       "      <td>opportunity</td>\n",
       "      <td>bb9b546f-2703-475e-8410-f010f5fe7eab</td>\n",
       "      <td>Werkomgeving voor Learning community ontwikkel...</td>\n",
       "      <td>challenge</td>\n",
       "      <td>bb9b546f-2703-475e-8410-f010f5fe7eab</td>\n",
       "    </tr>\n",
       "    <tr>\n",
       "      <th>1568</th>\n",
       "      <td>3f620917-05c7-4e79-8e9b-c151f94e5ae1</td>\n",
       "      <td>97403d8a-58f9-45f8-884c-e8187c01786b</td>\n",
       "      <td>member</td>\n",
       "      <td>bb9b546f-2703-475e-8410-f010f5fe7eab</td>\n",
       "      <td>Serena Scholte user</td>\n",
       "      <td>user</td>\n",
       "      <td>contributors</td>\n",
       "      <td>Partnerschapskaart  opportunity</td>\n",
       "      <td>opportunity</td>\n",
       "      <td>bb9b546f-2703-475e-8410-f010f5fe7eab</td>\n",
       "    </tr>\n",
       "    <tr>\n",
       "      <th>1569</th>\n",
       "      <td>4fa2594d-a8c5-4369-8530-09dd8ba69a1c</td>\n",
       "      <td>9ad42f02-c5cf-4dfc-aab9-d1530dc19174</td>\n",
       "      <td>child</td>\n",
       "      <td>15264ed3-fb76-4233-aa1b-36811c1f6ad9</td>\n",
       "      <td>Digital Literacy Course opportunity</td>\n",
       "      <td>opportunity</td>\n",
       "      <td>15264ed3-fb76-4233-aa1b-36811c1f6ad9</td>\n",
       "      <td>Tech for Social Good challenge</td>\n",
       "      <td>challenge</td>\n",
       "      <td>15264ed3-fb76-4233-aa1b-36811c1f6ad9</td>\n",
       "    </tr>\n",
       "    <tr>\n",
       "      <th>1570</th>\n",
       "      <td>fd82b450-28f3-4ca0-8ec4-fcf239f9f20a</td>\n",
       "      <td>4fa2594d-a8c5-4369-8530-09dd8ba69a1c</td>\n",
       "      <td>member</td>\n",
       "      <td>15264ed3-fb76-4233-aa1b-36811c1f6ad9</td>\n",
       "      <td>Roger Sweetman user</td>\n",
       "      <td>user</td>\n",
       "      <td>contributors</td>\n",
       "      <td>Digital Literacy Course opportunity</td>\n",
       "      <td>opportunity</td>\n",
       "      <td>15264ed3-fb76-4233-aa1b-36811c1f6ad9</td>\n",
       "    </tr>\n",
       "  </tbody>\n",
       "</table>\n",
       "<p>1571 rows × 10 columns</p>\n",
       "</div>"
      ],
      "text/plain": [
       "                                    source  \\\n",
       "0     01ef561d-2450-4bb5-841a-0c678ea84170   \n",
       "1     029997d8-0a26-4de6-9cb3-356f9175d344   \n",
       "2     0a105d73-fce3-4afd-a15d-bbdf109d8317   \n",
       "3     0bbf579f-4b91-43f7-8f80-27f65f731cdb   \n",
       "4     14e509c0-96d5-4fa7-8092-f17b1096dbee   \n",
       "...                                    ...   \n",
       "1566  0bc15a44-15d3-4460-9587-7a8f19a98f53   \n",
       "1567  97403d8a-58f9-45f8-884c-e8187c01786b   \n",
       "1568  3f620917-05c7-4e79-8e9b-c151f94e5ae1   \n",
       "1569  4fa2594d-a8c5-4369-8530-09dd8ba69a1c   \n",
       "1570  fd82b450-28f3-4ca0-8ec4-fcf239f9f20a   \n",
       "\n",
       "                                    target type Edge  \\\n",
       "0     6d2fb355-5f0f-4545-b2d1-945f37ecbbb5    member   \n",
       "1     6d2fb355-5f0f-4545-b2d1-945f37ecbbb5    member   \n",
       "2     6d2fb355-5f0f-4545-b2d1-945f37ecbbb5    member   \n",
       "3     6d2fb355-5f0f-4545-b2d1-945f37ecbbb5    member   \n",
       "4     6d2fb355-5f0f-4545-b2d1-945f37ecbbb5    member   \n",
       "...                                    ...       ...   \n",
       "1566  65dc2f1e-9d9b-42e0-b250-5e9f7d0d534b    member   \n",
       "1567  9fae45ff-ec64-45b5-98a6-d3652c999442     child   \n",
       "1568  97403d8a-58f9-45f8-884c-e8187c01786b    member   \n",
       "1569  9ad42f02-c5cf-4dfc-aab9-d1530dc19174     child   \n",
       "1570  4fa2594d-a8c5-4369-8530-09dd8ba69a1c    member   \n",
       "\n",
       "                                group Edge  \\\n",
       "0     6d2fb355-5f0f-4545-b2d1-945f37ecbbb5   \n",
       "1     6d2fb355-5f0f-4545-b2d1-945f37ecbbb5   \n",
       "2     6d2fb355-5f0f-4545-b2d1-945f37ecbbb5   \n",
       "3     6d2fb355-5f0f-4545-b2d1-945f37ecbbb5   \n",
       "4     6d2fb355-5f0f-4545-b2d1-945f37ecbbb5   \n",
       "...                                    ...   \n",
       "1566  bb9b546f-2703-475e-8410-f010f5fe7eab   \n",
       "1567  bb9b546f-2703-475e-8410-f010f5fe7eab   \n",
       "1568  bb9b546f-2703-475e-8410-f010f5fe7eab   \n",
       "1569  15264ed3-fb76-4233-aa1b-36811c1f6ad9   \n",
       "1570  15264ed3-fb76-4233-aa1b-36811c1f6ad9   \n",
       "\n",
       "                              name Source  type Source  \\\n",
       "0                  Marianne Schimmel user         user   \n",
       "1                   Ben Schuttenbeld user         user   \n",
       "2                    Wikke Alphenaar user         user   \n",
       "3                      Arthur Maring user         user   \n",
       "4                     Martin de Bijl user         user   \n",
       "...                                   ...          ...   \n",
       "1566               Stephan Corporaal user         user   \n",
       "1567      Partnerschapskaart  opportunity  opportunity   \n",
       "1568                  Serena Scholte user         user   \n",
       "1569  Digital Literacy Course opportunity  opportunity   \n",
       "1570                  Roger Sweetman user         user   \n",
       "\n",
       "                              group Source  \\\n",
       "0                             contributors   \n",
       "1                             contributors   \n",
       "2                             contributors   \n",
       "3                             contributors   \n",
       "4                             contributors   \n",
       "...                                    ...   \n",
       "1566                          contributors   \n",
       "1567  bb9b546f-2703-475e-8410-f010f5fe7eab   \n",
       "1568                          contributors   \n",
       "1569  15264ed3-fb76-4233-aa1b-36811c1f6ad9   \n",
       "1570                          contributors   \n",
       "\n",
       "                                            name Target  type Target  \\\n",
       "0                          Publieke dienstverlening hub          hub   \n",
       "1                          Publieke dienstverlening hub          hub   \n",
       "2                          Publieke dienstverlening hub          hub   \n",
       "3                          Publieke dienstverlening hub          hub   \n",
       "4                          Publieke dienstverlening hub          hub   \n",
       "...                                                 ...          ...   \n",
       "1566                        Monteurs vinden opportunity  opportunity   \n",
       "1567  Werkomgeving voor Learning community ontwikkel...    challenge   \n",
       "1568                    Partnerschapskaart  opportunity  opportunity   \n",
       "1569                     Tech for Social Good challenge    challenge   \n",
       "1570                Digital Literacy Course opportunity  opportunity   \n",
       "\n",
       "                              group Target  \n",
       "0     6d2fb355-5f0f-4545-b2d1-945f37ecbbb5  \n",
       "1     6d2fb355-5f0f-4545-b2d1-945f37ecbbb5  \n",
       "2     6d2fb355-5f0f-4545-b2d1-945f37ecbbb5  \n",
       "3     6d2fb355-5f0f-4545-b2d1-945f37ecbbb5  \n",
       "4     6d2fb355-5f0f-4545-b2d1-945f37ecbbb5  \n",
       "...                                    ...  \n",
       "1566  bb9b546f-2703-475e-8410-f010f5fe7eab  \n",
       "1567  bb9b546f-2703-475e-8410-f010f5fe7eab  \n",
       "1568  bb9b546f-2703-475e-8410-f010f5fe7eab  \n",
       "1569  15264ed3-fb76-4233-aa1b-36811c1f6ad9  \n",
       "1570  15264ed3-fb76-4233-aa1b-36811c1f6ad9  \n",
       "\n",
       "[1571 rows x 10 columns]"
      ]
     },
     "execution_count": 74,
     "metadata": {},
     "output_type": "execute_result"
    }
   ],
   "source": [
    "data"
   ]
  },
  {
   "cell_type": "code",
   "execution_count": 75,
   "id": "4458c0a2",
   "metadata": {},
   "outputs": [],
   "source": [
    "data.to_csv('data_graph_matrix_2023.csv')"
   ]
  },
  {
   "cell_type": "code",
   "execution_count": null,
   "id": "70ef2848",
   "metadata": {},
   "outputs": [],
   "source": []
  }
 ],
 "metadata": {
  "kernelspec": {
   "display_name": "Python 3",
   "language": "python",
   "name": "python3"
  },
  "language_info": {
   "codemirror_mode": {
    "name": "ipython",
    "version": 3
   },
   "file_extension": ".py",
   "mimetype": "text/x-python",
   "name": "python",
   "nbconvert_exporter": "python",
   "pygments_lexer": "ipython3",
   "version": "3.8.8"
  }
 },
 "nbformat": 4,
 "nbformat_minor": 5
}
