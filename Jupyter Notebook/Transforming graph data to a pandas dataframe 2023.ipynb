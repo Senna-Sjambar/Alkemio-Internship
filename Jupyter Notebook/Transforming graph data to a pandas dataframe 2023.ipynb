{
 "cells": [
  {
   "cell_type": "markdown",
   "id": "3f724e55",
   "metadata": {},
   "source": [
    "# Transforming graph data to pandas dataframe"
   ]
  },
  {
   "cell_type": "markdown",
   "id": "d3277af2",
   "metadata": {},
   "source": [
    "To make a pandas dataframe from the graphdata it is first necessary to import the data. How to do this is explained on: <br> https://github.com/alkem-io/analytics-playground "
   ]
  },
  {
   "cell_type": "code",
   "execution_count": 2,
   "id": "27122eed",
   "metadata": {},
   "outputs": [],
   "source": [
    "%run Functions.ipynb"
   ]
  },
  {
   "cell_type": "markdown",
   "id": "2d83e3a6",
   "metadata": {},
   "source": [
    "To use some of the funtions used in this notebook you first need to download the Functions notebook, which is available in jupyter notebook and spyder."
   ]
  },
  {
   "cell_type": "code",
   "execution_count": 3,
   "id": "158d2bad",
   "metadata": {},
   "outputs": [],
   "source": [
    "import pandas as pd\n",
    "import json\n",
    "from pandas import json_normalize"
   ]
  },
  {
   "cell_type": "markdown",
   "id": "007cf3fb",
   "metadata": {},
   "source": [
    "When you have downloaded the matrix as JSON-format, which is used to create the graph. With open you can open the data to make it as a pandas dataframe. <br><br>\n",
    "Within the variable_name['nodes'] it is possible to reach the information of the hubs, challenges, opportunities and contributors"
   ]
  },
  {
   "cell_type": "code",
   "execution_count": 4,
   "id": "3b778dd5",
   "metadata": {},
   "outputs": [],
   "source": [
    "with open('transformed-graph-data-new.json', 'r', encoding='utf-8') as file:\n",
    "    variable_name = json.load(file)"
   ]
  },
  {
   "cell_type": "markdown",
   "id": "386ae435",
   "metadata": {},
   "source": [
    "### Node information"
   ]
  },
  {
   "cell_type": "markdown",
   "id": "21a0bc89",
   "metadata": {},
   "source": [
    "Get all the node information of the hubs, contributors, challenges and opportunities"
   ]
  },
  {
   "cell_type": "code",
   "execution_count": 6,
   "id": "ff011e65",
   "metadata": {},
   "outputs": [],
   "source": [
    "nodes = variable_name['nodes']"
   ]
  },
  {
   "cell_type": "code",
   "execution_count": 26,
   "id": "a46ccc6c",
   "metadata": {},
   "outputs": [],
   "source": [
    "hubs = json_normalize(nodes['hubs'])"
   ]
  },
  {
   "cell_type": "code",
   "execution_count": 10,
   "id": "1b433c33",
   "metadata": {},
   "outputs": [],
   "source": [
    "contributors = json_normalize(nodes['contributors'])"
   ]
  },
  {
   "cell_type": "code",
   "execution_count": 30,
   "id": "e16c8a13",
   "metadata": {},
   "outputs": [],
   "source": [
    "challenges = json_normalize(nodes['challenges'])"
   ]
  },
  {
   "cell_type": "code",
   "execution_count": 34,
   "id": "e20565c9",
   "metadata": {},
   "outputs": [],
   "source": [
    "opportunities = json_normalize(nodes['opportunities'])"
   ]
  },
  {
   "cell_type": "markdown",
   "id": "722ffb4b",
   "metadata": {},
   "source": [
    "Save the hub, challenge, opportunity and contributors as csv so you can reach them any time necessary"
   ]
  },
  {
   "cell_type": "code",
   "execution_count": 22,
   "id": "674e996d",
   "metadata": {},
   "outputs": [],
   "source": [
    "hubs.to_csv('graph_hubs_2023')\n",
    "challenges.to_csv('graph_challenges_2023')\n",
    "opportunities.to_csv('graph_opportunities_2023')\n",
    "contributors.to_csv('graph_contributors_2023')"
   ]
  },
  {
   "cell_type": "code",
   "execution_count": 23,
   "id": "393b398a",
   "metadata": {},
   "outputs": [
    {
     "name": "stdout",
     "output_type": "stream",
     "text": [
      "column available for the hubs, challenges, opportunities and contributors are:\n",
      "id\n",
      "nameID\n",
      "displayName\n",
      "type\n",
      "group\n",
      "weight\n",
      "url\n",
      "avatar\n",
      "country\n",
      "city\n",
      "lon\n",
      "lat\n",
      "leadOrgsCount\n"
     ]
    }
   ],
   "source": [
    "print('column available for the hubs, challenges, opportunities and contributors are:')\n",
    "for i in hubs.columns:\n",
    "    print(i)"
   ]
  },
  {
   "cell_type": "markdown",
   "id": "4f2bdbaf",
   "metadata": {},
   "source": [
    "### Edge information"
   ]
  },
  {
   "cell_type": "code",
   "execution_count": 25,
   "id": "6e11cda8",
   "metadata": {},
   "outputs": [],
   "source": [
    "edges = json_normalize(variable_name['edges'])"
   ]
  },
  {
   "cell_type": "code",
   "execution_count": 26,
   "id": "a3376ac4",
   "metadata": {},
   "outputs": [
    {
     "name": "stdout",
     "output_type": "stream",
     "text": [
      "column available for the edges are:\n",
      "sourceID\n",
      "targetID\n",
      "source\n",
      "target\n",
      "weight\n",
      "type\n",
      "group\n"
     ]
    }
   ],
   "source": [
    "print('column available for the edges are:')\n",
    "for i in edges.columns:\n",
    "    print(i)"
   ]
  },
  {
   "cell_type": "markdown",
   "id": "b54e1f4a",
   "metadata": {},
   "source": [
    "The sourceID = source, and targetID=target"
   ]
  },
  {
   "cell_type": "markdown",
   "id": "8aa26887",
   "metadata": {},
   "source": [
    "## Connect sourceID with node names\n",
    "the goal for creating this dataframe is to make a dataframe which shows in the rows the different users and in the journeys the communities. The value is 1 if a user is a member of the journey. The only infromation that is kept of the hubs, challenges, opportunity and contributors are the id, name, type and group"
   ]
  },
  {
   "cell_type": "code",
   "execution_count": 28,
   "id": "eb28c24a",
   "metadata": {},
   "outputs": [],
   "source": [
    "hubs_min = hubs.drop(['nameID','weight','url', 'avatar', 'country', 'city', 'lon', 'lat', 'leadOrgsCount'], axis=1)\n",
    "challenges_min = challenges.drop(['nameID','weight','url', 'avatar', 'country', 'city', 'lon', 'lat', 'leadOrgsCount'], axis=1)\n",
    "opportunities_min = opportunities.drop(['nameID','weight','url', 'avatar', 'country', 'city', 'lon', 'lat', 'leadOrgsCount'], axis=1)\n",
    "users_min = contributors.drop(['nameID','weight','url', 'avatar', 'country', 'city', 'lon', 'lat'], axis=1)"
   ]
  },
  {
   "cell_type": "markdown",
   "id": "bec1cd2e",
   "metadata": {},
   "source": [
    "### Connect Hubs"
   ]
  },
  {
   "cell_type": "code",
   "execution_count": 29,
   "id": "2a0f2a87",
   "metadata": {},
   "outputs": [],
   "source": [
    "merge = pd.merge(edge_min, hubs_min, left_on='source', right_on='id', how='left')"
   ]
  },
  {
   "cell_type": "code",
   "execution_count": 31,
   "id": "1fa1321e",
   "metadata": {},
   "outputs": [],
   "source": [
    "merge = merge.drop(['id'], axis=1)"
   ]
  },
  {
   "cell_type": "code",
   "execution_count": 32,
   "id": "70003013",
   "metadata": {},
   "outputs": [],
   "source": [
    "merge = merge.rename(columns={'displayName':'name Source', 'type_x':'type Edge', 'type_y':'type Source', \n",
    "                              'group_y':'group Source', 'group_x':'group Edge'})"
   ]
  },
  {
   "cell_type": "markdown",
   "id": "bd383532",
   "metadata": {},
   "source": [
    "### Connect Challenges"
   ]
  },
  {
   "cell_type": "code",
   "execution_count": 34,
   "id": "97e2e82b",
   "metadata": {},
   "outputs": [],
   "source": [
    "merge2 = pd.merge(merge, challenges_min, left_on='source', right_on='id', how='left')"
   ]
  },
  {
   "cell_type": "code",
   "execution_count": 36,
   "id": "309de4b5",
   "metadata": {},
   "outputs": [],
   "source": [
    "merge2['name Source'] = merge2['name Source'].combine_first(merge2['displayName'])\n",
    "merge2['type Source'] = merge2['type Source'].combine_first(merge2['type'])\n",
    "merge2['group Source'] = merge2['group Source'].combine_first(merge2['group'])"
   ]
  },
  {
   "cell_type": "code",
   "execution_count": 37,
   "id": "b6e84871",
   "metadata": {},
   "outputs": [],
   "source": [
    "merge2 = merge2.drop(['id', 'displayName', 'type', 'group'], axis=1)"
   ]
  },
  {
   "cell_type": "markdown",
   "id": "c79891a6",
   "metadata": {},
   "source": [
    "### Connect Opportunities"
   ]
  },
  {
   "cell_type": "code",
   "execution_count": 39,
   "id": "f1774db8",
   "metadata": {},
   "outputs": [],
   "source": [
    "merge3 = pd.merge(merge2, opportunities_min, left_on='source', right_on='id', how='left')"
   ]
  },
  {
   "cell_type": "code",
   "execution_count": 41,
   "id": "5fa954b8",
   "metadata": {},
   "outputs": [],
   "source": [
    "merge3['name Source'] = merge3['name Source'].combine_first(merge3['displayName'])\n",
    "merge3['type Source'] = merge3['type Source'].combine_first(merge3['type'])\n",
    "merge3['group Source'] = merge3['group Source'].combine_first(merge3['group'])"
   ]
  },
  {
   "cell_type": "code",
   "execution_count": 42,
   "id": "311f7fe4",
   "metadata": {},
   "outputs": [],
   "source": [
    "merge3 = merge3.drop(['id', 'displayName', 'type', 'group'], axis=1)"
   ]
  },
  {
   "cell_type": "markdown",
   "id": "3f967bf1",
   "metadata": {},
   "source": [
    "### Connect Contributors"
   ]
  },
  {
   "cell_type": "code",
   "execution_count": 44,
   "id": "c0ce3342",
   "metadata": {},
   "outputs": [],
   "source": [
    "merge4 = pd.merge(merge3, users_min, left_on='source', right_on='id', how='left')"
   ]
  },
  {
   "cell_type": "code",
   "execution_count": 46,
   "id": "ca11b7fb",
   "metadata": {},
   "outputs": [],
   "source": [
    "merge4['name Source'] = merge4['name Source'].combine_first(merge4['displayName'])\n",
    "merge4['type Source'] = merge4['type Source'].combine_first(merge4['type'])\n",
    "merge4['group Source'] = merge4['group Source'].combine_first(merge4['group'])"
   ]
  },
  {
   "cell_type": "code",
   "execution_count": 47,
   "id": "c0631df6",
   "metadata": {},
   "outputs": [],
   "source": [
    "merge4 = merge4.drop(['id', 'displayName', 'type', 'group'], axis=1)"
   ]
  },
  {
   "cell_type": "markdown",
   "id": "629e6b44",
   "metadata": {},
   "source": [
    "## Connect targetID with node names"
   ]
  },
  {
   "cell_type": "markdown",
   "id": "87da843e",
   "metadata": {},
   "source": [
    "### Hubs"
   ]
  },
  {
   "cell_type": "code",
   "execution_count": 49,
   "id": "e87e9067",
   "metadata": {},
   "outputs": [],
   "source": [
    "merge5 = pd.merge(merge4, hubs_min, left_on='target', right_on='id', how='left')"
   ]
  },
  {
   "cell_type": "code",
   "execution_count": 51,
   "id": "b4cba95b",
   "metadata": {},
   "outputs": [],
   "source": [
    "merge5 = merge5.rename(columns={'displayName':'name Target', 'type':'type Target', 'group':'group Target'})"
   ]
  },
  {
   "cell_type": "code",
   "execution_count": 52,
   "id": "af07e491",
   "metadata": {},
   "outputs": [],
   "source": [
    "merge5 = merge5.drop(['id'], axis=1)"
   ]
  },
  {
   "cell_type": "markdown",
   "id": "486e64c9",
   "metadata": {},
   "source": [
    "### Challenges"
   ]
  },
  {
   "cell_type": "code",
   "execution_count": 54,
   "id": "1ca0069c",
   "metadata": {},
   "outputs": [],
   "source": [
    "merge6 = pd.merge(merge5, challenges_min, left_on='target', right_on='id', how='left')"
   ]
  },
  {
   "cell_type": "code",
   "execution_count": 56,
   "id": "908eebe6",
   "metadata": {},
   "outputs": [],
   "source": [
    "merge6['name Target'] = merge6['name Target'].combine_first(merge6['displayName'])\n",
    "merge6['type Target'] = merge6['type Target'].combine_first(merge6['type'])\n",
    "merge6['group Target'] = merge6['group Target'].combine_first(merge6['group'])"
   ]
  },
  {
   "cell_type": "code",
   "execution_count": 57,
   "id": "a9ca7e20",
   "metadata": {},
   "outputs": [],
   "source": [
    "merge6 = merge6.drop(['id', 'displayName', 'type', 'group'], axis=1)"
   ]
  },
  {
   "cell_type": "markdown",
   "id": "5a019020",
   "metadata": {},
   "source": [
    "### Opportunities"
   ]
  },
  {
   "cell_type": "code",
   "execution_count": 59,
   "id": "3c897281",
   "metadata": {},
   "outputs": [],
   "source": [
    "merge7 = pd.merge(merge6, opportunities_min, left_on='target', right_on='id', how='left')"
   ]
  },
  {
   "cell_type": "code",
   "execution_count": 61,
   "id": "3feaaa78",
   "metadata": {},
   "outputs": [],
   "source": [
    "merge7['name Target'] = merge7['name Target'].combine_first(merge7['displayName'])\n",
    "merge7['type Target'] = merge7['type Target'].combine_first(merge7['type'])\n",
    "merge7['group Target'] = merge7['group Target'].combine_first(merge7['group'])"
   ]
  },
  {
   "cell_type": "code",
   "execution_count": 62,
   "id": "d4eabf4d",
   "metadata": {},
   "outputs": [],
   "source": [
    "merge7 = merge7.drop(['id', 'displayName', 'type', 'group'], axis=1)"
   ]
  },
  {
   "cell_type": "markdown",
   "id": "a9c79391",
   "metadata": {},
   "source": [
    "### Contributors"
   ]
  },
  {
   "cell_type": "code",
   "execution_count": 64,
   "id": "06127c31",
   "metadata": {},
   "outputs": [],
   "source": [
    "merge8 = pd.merge(merge7, users_min, left_on='target', right_on='id', how='left')"
   ]
  },
  {
   "cell_type": "code",
   "execution_count": 66,
   "id": "f7ebd6ca",
   "metadata": {},
   "outputs": [],
   "source": [
    "merge8 = merge8.drop(['id', 'displayName', 'type', 'group'], axis=1)"
   ]
  },
  {
   "cell_type": "markdown",
   "id": "bac93312",
   "metadata": {},
   "source": [
    "## Exporting dataframe to csv"
   ]
  },
  {
   "cell_type": "code",
   "execution_count": 67,
   "id": "133b0f0d",
   "metadata": {},
   "outputs": [],
   "source": [
    "merge8.to_csv('graphdata_pandas_2023.csv', index=False)"
   ]
  },
  {
   "cell_type": "code",
   "execution_count": 68,
   "id": "3dab480b",
   "metadata": {},
   "outputs": [
    {
     "name": "stdout",
     "output_type": "stream",
     "text": [
      "column available for the dataframe are:\n",
      "source\n",
      "target\n",
      "type Edge\n",
      "group Edge\n",
      "name Source\n",
      "type Source\n",
      "group Source\n",
      "name Target\n",
      "type Target\n",
      "group Target\n"
     ]
    }
   ],
   "source": [
    "print('column available for the dataframe are:')\n",
    "for i in merge8.columns:\n",
    "    print(i)"
   ]
  },
  {
   "cell_type": "markdown",
   "id": "4b6aa5f3",
   "metadata": {},
   "source": [
    "# Making predition tabel"
   ]
  },
  {
   "cell_type": "code",
   "execution_count": 69,
   "id": "bf2a1b5b",
   "metadata": {},
   "outputs": [],
   "source": [
    "data = pd.read_csv('graphdata_pandas_2023.csv')"
   ]
  },
  {
   "cell_type": "markdown",
   "id": "46af3385",
   "metadata": {},
   "source": [
    "type of the node goes next to the name, this makes it easier to see what type a node is"
   ]
  },
  {
   "cell_type": "code",
   "execution_count": 70,
   "id": "60e6b3f5",
   "metadata": {},
   "outputs": [],
   "source": [
    "for i in range(len(data)):\n",
    "    data['name Source'][i] = data['name Source'][i] + str(\" \") + data['type Source'][i]\n",
    "    data['name Target'][i] = data['name Target'][i] + str(\" \") + data['type Target'][i]"
   ]
  },
  {
   "cell_type": "code",
   "execution_count": 71,
   "id": "077da568",
   "metadata": {},
   "outputs": [
    {
     "data": {
      "text/html": [
       "<div>\n",
       "<style scoped>\n",
       "    .dataframe tbody tr th:only-of-type {\n",
       "        vertical-align: middle;\n",
       "    }\n",
       "\n",
       "    .dataframe tbody tr th {\n",
       "        vertical-align: top;\n",
       "    }\n",
       "\n",
       "    .dataframe thead th {\n",
       "        text-align: right;\n",
       "    }\n",
       "</style>\n",
       "<table border=\"1\" class=\"dataframe\">\n",
       "  <thead>\n",
       "    <tr style=\"text-align: right;\">\n",
       "      <th></th>\n",
       "      <th>source</th>\n",
       "      <th>target</th>\n",
       "      <th>type Edge</th>\n",
       "      <th>group Edge</th>\n",
       "      <th>name Source</th>\n",
       "      <th>type Source</th>\n",
       "      <th>group Source</th>\n",
       "      <th>name Target</th>\n",
       "      <th>type Target</th>\n",
       "      <th>group Target</th>\n",
       "    </tr>\n",
       "  </thead>\n",
       "  <tbody>\n",
       "  </tbody>\n",
       "</table>\n",
       "</div>"
      ],
      "text/plain": [
       "Empty DataFrame\n",
       "Columns: [source, target, type Edge, group Edge, name Source, type Source, group Source, name Target, type Target, group Target]\n",
       "Index: []"
      ]
     },
     "execution_count": 71,
     "metadata": {},
     "output_type": "execute_result"
    }
   ],
   "source": [
    "data[data['name Source']==data['name Target']]"
   ]
  },
  {
   "cell_type": "markdown",
   "id": "322c66ee",
   "metadata": {},
   "source": [
    "There arent any source nodes and target nodes that refer to themselfes"
   ]
  },
  {
   "cell_type": "markdown",
   "id": "a86404d5",
   "metadata": {},
   "source": [
    "This seems like a lot of different journeys and contributors, but every connection a user has is put on a different row, so if a user is a member of four different communities, it is counted as 4 different users."
   ]
  },
  {
   "cell_type": "code",
   "execution_count": 75,
   "id": "4458c0a2",
   "metadata": {},
   "outputs": [],
   "source": [
    "data.to_csv('data_graph_matrix_2023.csv')"
   ]
  },
  {
   "cell_type": "code",
   "execution_count": null,
   "id": "70ef2848",
   "metadata": {},
   "outputs": [],
   "source": []
  }
 ],
 "metadata": {
  "kernelspec": {
   "display_name": "Python 3",
   "language": "python",
   "name": "python3"
  },
  "language_info": {
   "codemirror_mode": {
    "name": "ipython",
    "version": 3
   },
   "file_extension": ".py",
   "mimetype": "text/x-python",
   "name": "python",
   "nbconvert_exporter": "python",
   "pygments_lexer": "ipython3",
   "version": "3.8.8"
  }
 },
 "nbformat": 4,
 "nbformat_minor": 5
}
