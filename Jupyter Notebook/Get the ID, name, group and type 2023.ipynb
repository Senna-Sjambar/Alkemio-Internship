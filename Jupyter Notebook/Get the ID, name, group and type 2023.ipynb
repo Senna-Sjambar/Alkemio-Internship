{
 "cells": [
  {
   "cell_type": "markdown",
   "id": "63e5e82a",
   "metadata": {},
   "source": [
    "# Get the ID, name, group and type from the graph data"
   ]
  },
  {
   "cell_type": "code",
   "execution_count": 5,
   "id": "1d9749f8",
   "metadata": {},
   "outputs": [],
   "source": [
    "import pandas as pd"
   ]
  },
  {
   "cell_type": "code",
   "execution_count": 13,
   "id": "db1fc833",
   "metadata": {},
   "outputs": [],
   "source": [
    "%run Functions.ipynb"
   ]
  },
  {
   "cell_type": "code",
   "execution_count": 6,
   "id": "3ddc7b22",
   "metadata": {},
   "outputs": [],
   "source": [
    "data = pd.read_csv('data_graph_matrix_2023.csv', index_col=0)"
   ]
  },
  {
   "cell_type": "markdown",
   "id": "d6e459f0",
   "metadata": {},
   "source": [
    "From the source nodes get the source ID, name and group"
   ]
  },
  {
   "cell_type": "code",
   "execution_count": 8,
   "id": "47c7d0b3",
   "metadata": {},
   "outputs": [],
   "source": [
    "source = data.loc[:, ['source', 'name Source', 'group Source']]\n",
    "source.drop_duplicates(subset=['source'], keep='first', inplace=True)\n",
    "source=source.reset_index()\n",
    "source=source.drop('index', axis=1)\n",
    "source = source.rename(columns={'source':'ID', 'name Source':'name', 'group Source':'group'})"
   ]
  },
  {
   "cell_type": "markdown",
   "id": "12ff3279",
   "metadata": {},
   "source": [
    "From the target nodes get the target ID, name and group"
   ]
  },
  {
   "cell_type": "code",
   "execution_count": 9,
   "id": "ec79e1ba",
   "metadata": {},
   "outputs": [],
   "source": [
    "target = data.loc[:, ['target', 'name Target', 'group Target']]\n",
    "target.drop_duplicates(subset=['target'], keep='first', inplace=True)\n",
    "target=target.reset_index()\n",
    "target=target.drop('index', axis=1)\n",
    "target = target.rename(columns={'target':'ID', 'name Target':'name', 'group Target':'group'})"
   ]
  },
  {
   "cell_type": "markdown",
   "id": "c7ce4a13",
   "metadata": {},
   "source": [
    "Combine the source and target dataframe"
   ]
  },
  {
   "cell_type": "code",
   "execution_count": 10,
   "id": "2abc5780",
   "metadata": {},
   "outputs": [],
   "source": [
    "combined = pd.concat([source, target], ignore_index=True)"
   ]
  },
  {
   "cell_type": "markdown",
   "id": "962a9907",
   "metadata": {},
   "source": [
    "drop the duplicated ID"
   ]
  },
  {
   "cell_type": "code",
   "execution_count": 12,
   "id": "cd658b28",
   "metadata": {},
   "outputs": [],
   "source": [
    "combined.drop_duplicates(subset=['ID'], keep='first', inplace=True)\n",
    "combined=combined.reset_index()\n",
    "combined=combined.drop('index', axis=1)"
   ]
  },
  {
   "cell_type": "code",
   "execution_count": 14,
   "id": "cd425858",
   "metadata": {},
   "outputs": [],
   "source": [
    "combined['type'] = 0"
   ]
  },
  {
   "cell_type": "code",
   "execution_count": 18,
   "id": "8245eb51",
   "metadata": {},
   "outputs": [],
   "source": [
    "for i in range(len(combined)):\n",
    "    type = lastWord(combined['name'].iloc[i])\n",
    "    name = combined['name'].iloc[i]\n",
    "    combined['type'].iloc[i] = type\n",
    "    combined['name'].iloc[i] = name[:-len(lastWord(name))-1]"
   ]
  },
  {
   "cell_type": "markdown",
   "id": "87398a28",
   "metadata": {},
   "source": [
    "Save the dataframe"
   ]
  },
  {
   "cell_type": "code",
   "execution_count": 27,
   "id": "28d72763",
   "metadata": {},
   "outputs": [],
   "source": [
    "combined.to_csv('ID_name_group_type_2023.csv')"
   ]
  }
 ],
 "metadata": {
  "kernelspec": {
   "display_name": "Python 3",
   "language": "python",
   "name": "python3"
  },
  "language_info": {
   "codemirror_mode": {
    "name": "ipython",
    "version": 3
   },
   "file_extension": ".py",
   "mimetype": "text/x-python",
   "name": "python",
   "nbconvert_exporter": "python",
   "pygments_lexer": "ipython3",
   "version": "3.8.8"
  }
 },
 "nbformat": 4,
 "nbformat_minor": 5
}
