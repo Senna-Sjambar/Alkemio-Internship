{
 "cells": [
  {
   "cell_type": "markdown",
   "id": "3f724e55",
   "metadata": {},
   "source": [
    "# Transforming graph data to pandas dataframe"
   ]
  },
  {
   "cell_type": "markdown",
   "id": "d3277af2",
   "metadata": {},
   "source": [
    "To make a pandas dataframe from the graphdata it is first necessary to import the data. How to do this is explained on: <br> https://github.com/alkem-io/analytics-playground "
   ]
  },
  {
   "cell_type": "code",
   "execution_count": 1,
   "id": "27122eed",
   "metadata": {},
   "outputs": [],
   "source": [
    "%run Functions.ipynb"
   ]
  },
  {
   "cell_type": "markdown",
   "id": "2d83e3a6",
   "metadata": {},
   "source": [
    "To use some of the funtions used in this notebook you first need to download the Functions notebook, which is available in jupyter notebook and spyder."
   ]
  },
  {
   "cell_type": "code",
   "execution_count": 2,
   "id": "158d2bad",
   "metadata": {},
   "outputs": [],
   "source": [
    "import pandas as pd\n",
    "import json\n",
    "from pandas import json_normalize"
   ]
  },
  {
   "cell_type": "markdown",
   "id": "007cf3fb",
   "metadata": {},
   "source": [
    "When you have downloaded the matrix as JSON-format, which is used to create the graph. With open you can open the data to make it as a pandas dataframe. <br><br>\n",
    "Within the variable_name['nodes'] it is possible to reach the information of the hubs, challenges, opportunities and contributors"
   ]
  },
  {
   "cell_type": "code",
   "execution_count": 3,
   "id": "3b778dd5",
   "metadata": {},
   "outputs": [],
   "source": [
    "with open('transformed-graph-data.json', 'r') as file:\n",
    "    variable_name = json.load(file)"
   ]
  },
  {
   "cell_type": "markdown",
   "id": "386ae435",
   "metadata": {},
   "source": [
    "### Node information"
   ]
  },
  {
   "cell_type": "code",
   "execution_count": 4,
   "id": "ff011e65",
   "metadata": {},
   "outputs": [],
   "source": [
    "nodes = variable_name['nodes']"
   ]
  },
  {
   "cell_type": "code",
   "execution_count": 5,
   "id": "a46ccc6c",
   "metadata": {},
   "outputs": [],
   "source": [
    "hubs = json_normalize(nodes['hubs'])"
   ]
  },
  {
   "cell_type": "code",
   "execution_count": 6,
   "id": "1b433c33",
   "metadata": {},
   "outputs": [],
   "source": [
    "contributors = json_normalize(nodes['contributors'])"
   ]
  },
  {
   "cell_type": "code",
   "execution_count": 7,
   "id": "e16c8a13",
   "metadata": {},
   "outputs": [],
   "source": [
    "challenges = json_normalize(nodes['challenges'])"
   ]
  },
  {
   "cell_type": "code",
   "execution_count": 8,
   "id": "e20565c9",
   "metadata": {},
   "outputs": [],
   "source": [
    "opportunities = json_normalize(nodes['opportunities'])"
   ]
  },
  {
   "cell_type": "markdown",
   "id": "722ffb4b",
   "metadata": {},
   "source": [
    "Save the hub, challenge, opportunity and contributors as csv so you can reach them any time necessary"
   ]
  },
  {
   "cell_type": "code",
   "execution_count": 9,
   "id": "674e996d",
   "metadata": {},
   "outputs": [],
   "source": [
    "hubs.to_csv('graph_hubs')\n",
    "challenges.to_csv('graph_challenges')\n",
    "opportunities.to_csv('graph_opportunities')\n",
    "contributors.to_csv('graph_contributors')"
   ]
  },
  {
   "cell_type": "code",
   "execution_count": 10,
   "id": "393b398a",
   "metadata": {},
   "outputs": [
    {
     "name": "stdout",
     "output_type": "stream",
     "text": [
      "column available for the hubs, challenges, opportunities and contributors are:\n",
      "id\n",
      "nameID\n",
      "displayName\n",
      "type\n",
      "group\n",
      "weight\n",
      "url\n",
      "avatar\n",
      "country\n",
      "city\n",
      "lon\n",
      "lat\n",
      "leadOrgsCount\n"
     ]
    }
   ],
   "source": [
    "print('column available for the hubs, challenges, opportunities and contributors are:')\n",
    "for i in hubs.columns:\n",
    "    print(i)"
   ]
  },
  {
   "cell_type": "code",
   "execution_count": 11,
   "id": "7f957895",
   "metadata": {},
   "outputs": [
    {
     "name": "stdout",
     "output_type": "stream",
     "text": [
      "amount of hubs: 36\n",
      "amount of challenges: 106\n",
      "amount of opportunities: 285\n",
      "amount of contributors: 751\n"
     ]
    }
   ],
   "source": [
    "print(f'amount of hubs: {len(hubs)}')\n",
    "print(f'amount of challenges: {len(challenges)}')\n",
    "print(f'amount of opportunities: {len(opportunities)}')\n",
    "print(f'amount of contributors: {len(contributors)}')"
   ]
  },
  {
   "cell_type": "markdown",
   "id": "4f2bdbaf",
   "metadata": {},
   "source": [
    "### Edge information"
   ]
  },
  {
   "cell_type": "code",
   "execution_count": 12,
   "id": "6e11cda8",
   "metadata": {},
   "outputs": [],
   "source": [
    "edges = json_normalize(variable_name['edges'])"
   ]
  },
  {
   "cell_type": "code",
   "execution_count": 13,
   "id": "a3376ac4",
   "metadata": {},
   "outputs": [
    {
     "name": "stdout",
     "output_type": "stream",
     "text": [
      "column available for the edges are:\n",
      "sourceID\n",
      "targetID\n",
      "source\n",
      "target\n",
      "weight\n",
      "type\n",
      "group\n"
     ]
    }
   ],
   "source": [
    "print('column available for the edges are:')\n",
    "for i in edges.columns:\n",
    "    print(i)"
   ]
  },
  {
   "cell_type": "markdown",
   "id": "b54e1f4a",
   "metadata": {},
   "source": [
    "The sourceID = source, and targetID=target"
   ]
  },
  {
   "cell_type": "code",
   "execution_count": 14,
   "id": "cd805ab7",
   "metadata": {},
   "outputs": [],
   "source": [
    "edge_min = edges.drop(['sourceID', 'targetID', 'weight'], axis=1)"
   ]
  },
  {
   "cell_type": "markdown",
   "id": "8aa26887",
   "metadata": {},
   "source": [
    "## Connect sourceID with node names\n",
    "the goal for creating this dataframe is to make a dataframe which shows in the rows the different users and in the journeys the communities. The value is 1 if a user is a member of the journey. The only infromation that is kept of the hubs, challenges, opportunity and contributors are the id, name, type and group"
   ]
  },
  {
   "cell_type": "code",
   "execution_count": 15,
   "id": "eb28c24a",
   "metadata": {},
   "outputs": [],
   "source": [
    "hubs_min = hubs.drop(['nameID','weight','url', 'avatar', 'country', 'city', 'lon', 'lat', 'leadOrgsCount'], axis=1)\n",
    "challenges_min = challenges.drop(['nameID','weight','url', 'avatar', 'country', 'city', 'lon', 'lat', 'leadOrgsCount'], axis=1)\n",
    "opportunities_min = opportunities.drop(['nameID','weight','url', 'avatar', 'country', 'city', 'lon', 'lat', 'leadOrgsCount'], axis=1)\n",
    "users_min = contributors.drop(['nameID','weight','url', 'avatar', 'country', 'city', 'lon', 'lat'], axis=1)"
   ]
  },
  {
   "cell_type": "markdown",
   "id": "bec1cd2e",
   "metadata": {},
   "source": [
    "### Connect Hubs"
   ]
  },
  {
   "cell_type": "code",
   "execution_count": 16,
   "id": "2a0f2a87",
   "metadata": {},
   "outputs": [],
   "source": [
    "merge = pd.merge(edge_min, hubs_min, left_on='source', right_on='id', how='left')"
   ]
  },
  {
   "cell_type": "code",
   "execution_count": 17,
   "id": "1212323f",
   "metadata": {},
   "outputs": [
    {
     "name": "stdout",
     "output_type": "stream",
     "text": [
      "there are 0 amount of hubs as a source node\n"
     ]
    }
   ],
   "source": [
    "amount_hubs_source = len(merge[merge['displayName'].notnull()])\n",
    "print(f'there are {amount_hubs_source} amount of hubs as a source node')"
   ]
  },
  {
   "cell_type": "code",
   "execution_count": 18,
   "id": "1fa1321e",
   "metadata": {},
   "outputs": [],
   "source": [
    "merge = merge.drop(['id'], axis=1)"
   ]
  },
  {
   "cell_type": "code",
   "execution_count": 19,
   "id": "70003013",
   "metadata": {},
   "outputs": [],
   "source": [
    "merge = merge.rename(columns={'displayName':'name Source', 'type_x':'type Edge', 'type_y':'type Source', \n",
    "                              'group_y':'group Source', 'group_x':'group Edge'})"
   ]
  },
  {
   "cell_type": "code",
   "execution_count": 20,
   "id": "10a1b53c",
   "metadata": {},
   "outputs": [
    {
     "name": "stdout",
     "output_type": "stream",
     "text": [
      "there should be 0 amount of rows\n",
      "there are 0 amount of hubs as a source node\n"
     ]
    }
   ],
   "source": [
    "test_amount_hubs_source = len(merge[merge['name Source'].notnull()])\n",
    "print(f'there should be {amount_hubs_source} amount of rows')\n",
    "print(f'there are {test_amount_hubs_source} amount of hubs as a source node')\n"
   ]
  },
  {
   "cell_type": "markdown",
   "id": "bd383532",
   "metadata": {},
   "source": [
    "### Connect Challenges"
   ]
  },
  {
   "cell_type": "code",
   "execution_count": 21,
   "id": "97e2e82b",
   "metadata": {},
   "outputs": [],
   "source": [
    "merge2 = pd.merge(merge, challenges_min, left_on='source', right_on='id', how='left')"
   ]
  },
  {
   "cell_type": "code",
   "execution_count": 22,
   "id": "fdcae757",
   "metadata": {},
   "outputs": [
    {
     "name": "stdout",
     "output_type": "stream",
     "text": [
      "there are 106 amount of challenges as a source node\n"
     ]
    }
   ],
   "source": [
    "amount_challenges_source = len(merge2[merge2['displayName'].notnull()])\n",
    "print(f'there are {amount_challenges_source} amount of challenges as a source node')"
   ]
  },
  {
   "cell_type": "code",
   "execution_count": 23,
   "id": "309de4b5",
   "metadata": {},
   "outputs": [],
   "source": [
    "merge2['name Source'] = merge2['name Source'].combine_first(merge2['displayName'])\n",
    "merge2['type Source'] = merge2['type Source'].combine_first(merge2['type'])\n",
    "merge2['group Source'] = merge2['group Source'].combine_first(merge2['group'])"
   ]
  },
  {
   "cell_type": "code",
   "execution_count": 24,
   "id": "b6e84871",
   "metadata": {},
   "outputs": [],
   "source": [
    "merge2 = merge2.drop(['id', 'displayName', 'type', 'group'], axis=1)"
   ]
  },
  {
   "cell_type": "code",
   "execution_count": 25,
   "id": "7ff322cf",
   "metadata": {},
   "outputs": [
    {
     "name": "stdout",
     "output_type": "stream",
     "text": [
      "there should be 106 amount of rows\n",
      "there are 106 amount of hubs and challenges as a source node\n"
     ]
    }
   ],
   "source": [
    "test_amount_challenges_source = len(merge2[merge2['name Source'].notnull()])\n",
    "print(f'there should be {amount_challenges_source+amount_hubs_source} amount of rows')\n",
    "print(f'there are {test_amount_challenges_source} amount of hubs and challenges as a source node')\n"
   ]
  },
  {
   "cell_type": "markdown",
   "id": "c79891a6",
   "metadata": {},
   "source": [
    "### Connect Opportunities"
   ]
  },
  {
   "cell_type": "code",
   "execution_count": 26,
   "id": "f1774db8",
   "metadata": {},
   "outputs": [],
   "source": [
    "merge3 = pd.merge(merge2, opportunities_min, left_on='source', right_on='id', how='left')"
   ]
  },
  {
   "cell_type": "code",
   "execution_count": 27,
   "id": "89b78986",
   "metadata": {},
   "outputs": [
    {
     "name": "stdout",
     "output_type": "stream",
     "text": [
      "there are 285 amount of challenges as a source node\n"
     ]
    }
   ],
   "source": [
    "amount_opportunities_source = len(merge3[merge3['displayName'].notnull()])\n",
    "print(f'there are {amount_opportunities_source} amount of challenges as a source node')"
   ]
  },
  {
   "cell_type": "code",
   "execution_count": 28,
   "id": "5fa954b8",
   "metadata": {},
   "outputs": [],
   "source": [
    "merge3['name Source'] = merge3['name Source'].combine_first(merge3['displayName'])\n",
    "merge3['type Source'] = merge3['type Source'].combine_first(merge3['type'])\n",
    "merge3['group Source'] = merge3['group Source'].combine_first(merge3['group'])"
   ]
  },
  {
   "cell_type": "code",
   "execution_count": 29,
   "id": "311f7fe4",
   "metadata": {},
   "outputs": [],
   "source": [
    "merge3 = merge3.drop(['id', 'displayName', 'type', 'group'], axis=1)"
   ]
  },
  {
   "cell_type": "code",
   "execution_count": 30,
   "id": "bf6682c3",
   "metadata": {},
   "outputs": [
    {
     "name": "stdout",
     "output_type": "stream",
     "text": [
      "there should be 285+106+0=391 amount of rows\n",
      "there are 391 amount of hubs, challenges and opportunities as a source node\n"
     ]
    }
   ],
   "source": [
    "test_amount_opportunities_source = len(merge3[merge3['name Source'].notnull()])\n",
    "print(f'there should be {amount_opportunities_source}+{+amount_challenges_source}+{amount_hubs_source}={amount_opportunities_source+amount_challenges_source+amount_hubs_source} amount of rows')\n",
    "print(f'there are {test_amount_opportunities_source} amount of hubs, challenges and opportunities as a source node')"
   ]
  },
  {
   "cell_type": "markdown",
   "id": "3f967bf1",
   "metadata": {},
   "source": [
    "### Connect Contributors"
   ]
  },
  {
   "cell_type": "code",
   "execution_count": 31,
   "id": "c0ce3342",
   "metadata": {},
   "outputs": [],
   "source": [
    "merge4 = pd.merge(merge3, users_min, left_on='source', right_on='id', how='left')"
   ]
  },
  {
   "cell_type": "code",
   "execution_count": 32,
   "id": "64e8e5af",
   "metadata": {},
   "outputs": [
    {
     "name": "stdout",
     "output_type": "stream",
     "text": [
      "there are 1974 amount of challenges as a source node\n"
     ]
    }
   ],
   "source": [
    "amount_users_source = len(merge4[merge4['displayName'].notnull()])\n",
    "print(f'there are {amount_users_source} amount of challenges as a source node')"
   ]
  },
  {
   "cell_type": "code",
   "execution_count": 33,
   "id": "ca11b7fb",
   "metadata": {},
   "outputs": [],
   "source": [
    "merge4['name Source'] = merge4['name Source'].combine_first(merge4['displayName'])\n",
    "merge4['type Source'] = merge4['type Source'].combine_first(merge4['type'])\n",
    "merge4['group Source'] = merge4['group Source'].combine_first(merge4['group'])"
   ]
  },
  {
   "cell_type": "code",
   "execution_count": 34,
   "id": "c0631df6",
   "metadata": {},
   "outputs": [],
   "source": [
    "merge4 = merge4.drop(['id', 'displayName', 'type', 'group'], axis=1)"
   ]
  },
  {
   "cell_type": "code",
   "execution_count": 35,
   "id": "82168244",
   "metadata": {},
   "outputs": [
    {
     "name": "stdout",
     "output_type": "stream",
     "text": [
      "there should be 1974+285+106+0=2365 amount of rows\n",
      "there are 2365 amount of hubs, challenges, opportunities and contributors as a source node\n"
     ]
    }
   ],
   "source": [
    "test_amount_users_source = len(merge4[merge4['name Source'].notnull()])\n",
    "print(f'there should be {amount_users_source}+{amount_opportunities_source}+{amount_challenges_source}+{amount_hubs_source}={amount_users_source+amount_opportunities_source+amount_challenges_source+amount_hubs_source} amount of rows')\n",
    "print(f'there are {test_amount_users_source} amount of hubs, challenges, opportunities and contributors as a source node')"
   ]
  },
  {
   "cell_type": "markdown",
   "id": "629e6b44",
   "metadata": {},
   "source": [
    "## Connect targetID with node names"
   ]
  },
  {
   "cell_type": "markdown",
   "id": "87da843e",
   "metadata": {},
   "source": [
    "### Hubs"
   ]
  },
  {
   "cell_type": "code",
   "execution_count": 36,
   "id": "e87e9067",
   "metadata": {},
   "outputs": [],
   "source": [
    "merge5 = pd.merge(merge4, hubs_min, left_on='target', right_on='id', how='left')"
   ]
  },
  {
   "cell_type": "code",
   "execution_count": 37,
   "id": "37efd059",
   "metadata": {
    "scrolled": true
   },
   "outputs": [
    {
     "name": "stdout",
     "output_type": "stream",
     "text": [
      "there are 697 amount of hubs as a target node\n"
     ]
    }
   ],
   "source": [
    "amount_hubs_target = len(merge5[merge5['displayName'].notnull()])\n",
    "print(f'there are {amount_hubs_target} amount of hubs as a target node')"
   ]
  },
  {
   "cell_type": "code",
   "execution_count": 38,
   "id": "b4cba95b",
   "metadata": {},
   "outputs": [],
   "source": [
    "merge5 = merge5.rename(columns={'displayName':'name Target', 'type':'type Target', 'group':'group Target'})"
   ]
  },
  {
   "cell_type": "code",
   "execution_count": 39,
   "id": "af07e491",
   "metadata": {},
   "outputs": [],
   "source": [
    "merge5 = merge5.drop(['id'], axis=1)"
   ]
  },
  {
   "cell_type": "code",
   "execution_count": 40,
   "id": "1b7f58a3",
   "metadata": {},
   "outputs": [
    {
     "name": "stdout",
     "output_type": "stream",
     "text": [
      "there should be 697 amount of rows\n",
      "there are 697 amount of hubs as a source node\n"
     ]
    }
   ],
   "source": [
    "test_amount_hubs_target= len(merge5[merge5['name Target'].notnull()])\n",
    "print(f'there should be {amount_hubs_target} amount of rows')\n",
    "print(f'there are {test_amount_hubs_target} amount of hubs as a source node')"
   ]
  },
  {
   "cell_type": "markdown",
   "id": "486e64c9",
   "metadata": {},
   "source": [
    "### Challenges"
   ]
  },
  {
   "cell_type": "code",
   "execution_count": 41,
   "id": "1ca0069c",
   "metadata": {},
   "outputs": [],
   "source": [
    "merge6 = pd.merge(merge5, challenges_min, left_on='target', right_on='id', how='left')"
   ]
  },
  {
   "cell_type": "code",
   "execution_count": 42,
   "id": "6d86505f",
   "metadata": {},
   "outputs": [
    {
     "name": "stdout",
     "output_type": "stream",
     "text": [
      "there are 736 amount of hubs as a target node\n"
     ]
    }
   ],
   "source": [
    "amount_challenges_target = len(merge6[merge6['displayName'].notnull()])\n",
    "print(f'there are {amount_challenges_target} amount of hubs as a target node')"
   ]
  },
  {
   "cell_type": "code",
   "execution_count": 43,
   "id": "908eebe6",
   "metadata": {},
   "outputs": [],
   "source": [
    "merge6['name Target'] = merge6['name Target'].combine_first(merge6['displayName'])\n",
    "merge6['type Target'] = merge6['type Target'].combine_first(merge6['type'])\n",
    "merge6['group Target'] = merge6['group Target'].combine_first(merge6['group'])"
   ]
  },
  {
   "cell_type": "code",
   "execution_count": 44,
   "id": "a9ca7e20",
   "metadata": {},
   "outputs": [],
   "source": [
    "merge6 = merge6.drop(['id', 'displayName', 'type', 'group'], axis=1)"
   ]
  },
  {
   "cell_type": "code",
   "execution_count": 45,
   "id": "370f6d88",
   "metadata": {},
   "outputs": [
    {
     "name": "stdout",
     "output_type": "stream",
     "text": [
      "there should be 736+697=1433 amount of rows\n",
      "there are 1433 amount of hubs and challenges as a target node\n"
     ]
    }
   ],
   "source": [
    "test_amount_challenges_target = len(merge6[merge6['name Target'].notnull()])\n",
    "print(f'there should be {amount_challenges_target}+{amount_hubs_target}={amount_challenges_target+amount_hubs_target} amount of rows')\n",
    "print(f'there are {test_amount_challenges_target} amount of hubs and challenges as a target node')"
   ]
  },
  {
   "cell_type": "markdown",
   "id": "5a019020",
   "metadata": {},
   "source": [
    "### Opportunities"
   ]
  },
  {
   "cell_type": "code",
   "execution_count": 46,
   "id": "3c897281",
   "metadata": {},
   "outputs": [],
   "source": [
    "merge7 = pd.merge(merge6, opportunities_min, left_on='target', right_on='id', how='left')"
   ]
  },
  {
   "cell_type": "code",
   "execution_count": 47,
   "id": "63b9a820",
   "metadata": {},
   "outputs": [
    {
     "name": "stdout",
     "output_type": "stream",
     "text": [
      "there are 932 amount of challenges as a source node\n"
     ]
    }
   ],
   "source": [
    "amount_opportunities_target = len(merge7[merge7['displayName'].notnull()])\n",
    "print(f'there are {amount_opportunities_target} amount of challenges as a source node')"
   ]
  },
  {
   "cell_type": "code",
   "execution_count": 48,
   "id": "3feaaa78",
   "metadata": {},
   "outputs": [],
   "source": [
    "merge7['name Target'] = merge7['name Target'].combine_first(merge7['displayName'])\n",
    "merge7['type Target'] = merge7['type Target'].combine_first(merge7['type'])\n",
    "merge7['group Target'] = merge7['group Target'].combine_first(merge7['group'])"
   ]
  },
  {
   "cell_type": "code",
   "execution_count": 49,
   "id": "d4eabf4d",
   "metadata": {},
   "outputs": [],
   "source": [
    "merge7 = merge7.drop(['id', 'displayName', 'type', 'group'], axis=1)"
   ]
  },
  {
   "cell_type": "code",
   "execution_count": 50,
   "id": "a2b9dd74",
   "metadata": {},
   "outputs": [
    {
     "name": "stdout",
     "output_type": "stream",
     "text": [
      "there should be 932+736+697=2365 amount of rows\n",
      "there are 2365 amount of hubs challenge and opportunities as a target node\n"
     ]
    }
   ],
   "source": [
    "test_amount_opportunities_target = len(merge7[merge7['name Target'].notnull()])\n",
    "print(f'there should be {amount_opportunities_target}+{amount_challenges_target}+{amount_hubs_target}={amount_opportunities_target+amount_challenges_target+amount_hubs_target} amount of rows')\n",
    "print(f'there are {test_amount_opportunities_target} amount of hubs challenge and opportunities as a target node')"
   ]
  },
  {
   "cell_type": "markdown",
   "id": "a9c79391",
   "metadata": {},
   "source": [
    "### Contributors"
   ]
  },
  {
   "cell_type": "code",
   "execution_count": 51,
   "id": "06127c31",
   "metadata": {},
   "outputs": [],
   "source": [
    "merge8 = pd.merge(merge7, users_min, left_on='target', right_on='id', how='left')"
   ]
  },
  {
   "cell_type": "code",
   "execution_count": 52,
   "id": "6904b74b",
   "metadata": {},
   "outputs": [
    {
     "name": "stdout",
     "output_type": "stream",
     "text": [
      "there are 0 amount of contributors as a target node\n"
     ]
    }
   ],
   "source": [
    "amount_users_target = len(merge8[merge8['displayName'].notnull()])\n",
    "print(f'there are {amount_users_target} amount of contributors as a target node')"
   ]
  },
  {
   "cell_type": "code",
   "execution_count": 53,
   "id": "f7ebd6ca",
   "metadata": {},
   "outputs": [],
   "source": [
    "merge8 = merge8.drop(['id', 'displayName', 'type', 'group'], axis=1)"
   ]
  },
  {
   "cell_type": "markdown",
   "id": "bac93312",
   "metadata": {},
   "source": [
    "## Exporting dataframe to csv"
   ]
  },
  {
   "cell_type": "code",
   "execution_count": 54,
   "id": "133b0f0d",
   "metadata": {},
   "outputs": [],
   "source": [
    "merge8.to_csv('graphdata_pandas.csv', index=False)"
   ]
  },
  {
   "cell_type": "code",
   "execution_count": 55,
   "id": "3dab480b",
   "metadata": {},
   "outputs": [
    {
     "name": "stdout",
     "output_type": "stream",
     "text": [
      "column available for the dataframe are:\n",
      "source\n",
      "target\n",
      "type Edge\n",
      "group Edge\n",
      "name Source\n",
      "type Source\n",
      "group Source\n",
      "name Target\n",
      "type Target\n",
      "group Target\n"
     ]
    }
   ],
   "source": [
    "print('column available for the dataframe are:')\n",
    "for i in merge8.columns:\n",
    "    print(i)"
   ]
  },
  {
   "cell_type": "markdown",
   "id": "4b6aa5f3",
   "metadata": {},
   "source": [
    "# Making predition tabel"
   ]
  },
  {
   "cell_type": "code",
   "execution_count": 56,
   "id": "bf2a1b5b",
   "metadata": {},
   "outputs": [],
   "source": [
    "data = pd.read_csv('graphdata_pandas.csv')"
   ]
  },
  {
   "cell_type": "markdown",
   "id": "46af3385",
   "metadata": {},
   "source": [
    "type of the node goes next to the name, this makes it easier to see what type a node is"
   ]
  },
  {
   "cell_type": "code",
   "execution_count": 57,
   "id": "60e6b3f5",
   "metadata": {},
   "outputs": [],
   "source": [
    "for i in range(len(data)):\n",
    "    data['name Source'][i] = data['name Source'][i] + str(\" \") + data['type Source'][i]\n",
    "    data['name Target'][i] = data['name Target'][i] + str(\" \") + data['type Target'][i]"
   ]
  },
  {
   "cell_type": "code",
   "execution_count": 58,
   "id": "077da568",
   "metadata": {},
   "outputs": [
    {
     "data": {
      "text/html": [
       "<div>\n",
       "<style scoped>\n",
       "    .dataframe tbody tr th:only-of-type {\n",
       "        vertical-align: middle;\n",
       "    }\n",
       "\n",
       "    .dataframe tbody tr th {\n",
       "        vertical-align: top;\n",
       "    }\n",
       "\n",
       "    .dataframe thead th {\n",
       "        text-align: right;\n",
       "    }\n",
       "</style>\n",
       "<table border=\"1\" class=\"dataframe\">\n",
       "  <thead>\n",
       "    <tr style=\"text-align: right;\">\n",
       "      <th></th>\n",
       "      <th>source</th>\n",
       "      <th>target</th>\n",
       "      <th>type Edge</th>\n",
       "      <th>group Edge</th>\n",
       "      <th>name Source</th>\n",
       "      <th>type Source</th>\n",
       "      <th>group Source</th>\n",
       "      <th>name Target</th>\n",
       "      <th>type Target</th>\n",
       "      <th>group Target</th>\n",
       "    </tr>\n",
       "  </thead>\n",
       "  <tbody>\n",
       "  </tbody>\n",
       "</table>\n",
       "</div>"
      ],
      "text/plain": [
       "Empty DataFrame\n",
       "Columns: [source, target, type Edge, group Edge, name Source, type Source, group Source, name Target, type Target, group Target]\n",
       "Index: []"
      ]
     },
     "execution_count": 58,
     "metadata": {},
     "output_type": "execute_result"
    }
   ],
   "source": [
    "data[data['name Source']==data['name Target']]"
   ]
  },
  {
   "cell_type": "markdown",
   "id": "322c66ee",
   "metadata": {},
   "source": [
    "There arent any source nodes and target nodes that refer to themselfes"
   ]
  },
  {
   "cell_type": "code",
   "execution_count": 59,
   "id": "3dcaa361",
   "metadata": {},
   "outputs": [
    {
     "data": {
      "text/plain": [
       "user            1405\n",
       "organization     569\n",
       "opportunity      285\n",
       "challenge        106\n",
       "Name: type Source, dtype: int64"
      ]
     },
     "execution_count": 59,
     "metadata": {},
     "output_type": "execute_result"
    }
   ],
   "source": [
    "data['type Source'].value_counts()"
   ]
  },
  {
   "cell_type": "code",
   "execution_count": 60,
   "id": "3f8710c7",
   "metadata": {},
   "outputs": [
    {
     "data": {
      "text/plain": [
       "opportunity    932\n",
       "challenge      736\n",
       "hub            697\n",
       "Name: type Target, dtype: int64"
      ]
     },
     "execution_count": 60,
     "metadata": {},
     "output_type": "execute_result"
    }
   ],
   "source": [
    "data['type Target'].value_counts()"
   ]
  },
  {
   "cell_type": "markdown",
   "id": "a86404d5",
   "metadata": {},
   "source": [
    "This seems like a lot of different journeys and contributors, but every connection a user has is put on a different row, so if a user is a member of four different communities, it is counted as 4 different users."
   ]
  },
  {
   "cell_type": "markdown",
   "id": "640a0ec1",
   "metadata": {},
   "source": [
    "## Creating graph"
   ]
  },
  {
   "cell_type": "code",
   "execution_count": 61,
   "id": "d5cf47a5",
   "metadata": {},
   "outputs": [],
   "source": [
    "import networkx as nx\n",
    "import matplotlib.pyplot as plt\n",
    "import inspect"
   ]
  },
  {
   "cell_type": "markdown",
   "id": "d309cb3c",
   "metadata": {},
   "source": [
    "With the what_to_graph function you can graph whatever group or individual you want. <br> The function has the following parameters:"
   ]
  },
  {
   "cell_type": "code",
   "execution_count": 62,
   "id": "2684346d",
   "metadata": {},
   "outputs": [
    {
     "data": {
      "text/plain": [
       "FullArgSpec(args=['what', 'group_id', 'name_id', 'node_type'], varargs=None, varkw=None, defaults=(['all', 'group', 'individual'], '', '', ['', 'Target', 'Source']), kwonlyargs=[], kwonlydefaults=None, annotations={})"
      ]
     },
     "execution_count": 62,
     "metadata": {},
     "output_type": "execute_result"
    }
   ],
   "source": [
    "inspect.getfullargspec(what_to_graph)"
   ]
  },
  {
   "cell_type": "markdown",
   "id": "8697ae73",
   "metadata": {},
   "source": [
    "For what you can choose 'all', 'group' or 'individual'. All will allow you to graph the entire dataset, with group you would graph a group which is defined in the pandas dataframe and with individual you can graph an individual, this can be a hub, challenge, opportunity or contributor. <br><br> Once you have defined what you want to graph it is neccessary to define the group_id or the name_id in case you choose to graph a group or individual. If you choose 'all' then you do not need to define any more parameters. <br><br> Next you need to make sure you also define what node_type you want to graph. The option availble are: '', 'Target' or 'Source'. You only need to define this when you choose to graph a group or individual. If you choose to graph all then choose '' for node_type."
   ]
  },
  {
   "cell_type": "markdown",
   "id": "5cefc2f4",
   "metadata": {},
   "source": [
    "**for privacy reasons the graphs are not shown in this notebook, if you want to use them make sure you delete the '#' in front of the code**\n",
    "<br>Examples of how you can use the what_to_graph function:"
   ]
  },
  {
   "cell_type": "code",
   "execution_count": 63,
   "id": "45d66be9",
   "metadata": {},
   "outputs": [],
   "source": [
    "#G = what_to_graph(what='group',group_id='6d2fb355-5f0f-4545-b2d1-945f37ecbbb5', node_type='Target')"
   ]
  },
  {
   "cell_type": "code",
   "execution_count": 64,
   "id": "11512d35",
   "metadata": {},
   "outputs": [],
   "source": [
    "#T = what_to_graph(what='individual',name_id='6d2fb355-5f0f-4545-b2d1-945f37ecbbb5', node_type='Target')"
   ]
  },
  {
   "cell_type": "code",
   "execution_count": 72,
   "id": "36582800",
   "metadata": {},
   "outputs": [],
   "source": [
    "#A = what_to_graph(what='all', node_type='')"
   ]
  },
  {
   "cell_type": "markdown",
   "id": "7cf9b96a",
   "metadata": {},
   "source": [
    "These are the same ids but create a different graph, on indivdual level it shows what is connected with the searched item. With the group the graph shows everything that is connected around this community."
   ]
  },
  {
   "cell_type": "markdown",
   "id": "73fca902",
   "metadata": {},
   "source": [
    "## Transform created graph to pandas dataframe"
   ]
  },
  {
   "cell_type": "markdown",
   "id": "0d7e1395",
   "metadata": {},
   "source": [
    "In order to finally create the dataframe with users in the rows and journeys in the columns you need to make a matrix from the created graph. In this example the dataframe is created from the A graph which is the graph that uses the entire dataset, so all the contributors and journeys are in here."
   ]
  },
  {
   "cell_type": "code",
   "execution_count": 66,
   "id": "bf531490",
   "metadata": {},
   "outputs": [],
   "source": [
    "df_graph = nx.to_pandas_adjacency(A)\n",
    "df_graph.index = A.nodes()\n",
    "df_graph.columns = A.nodes()"
   ]
  },
  {
   "cell_type": "code",
   "execution_count": 67,
   "id": "b86a710b",
   "metadata": {},
   "outputs": [
    {
     "name": "stdout",
     "output_type": "stream",
     "text": [
      "amount of rows: 929\n",
      "amount of columns:929\n"
     ]
    }
   ],
   "source": [
    "df_graph.shape\n",
    "print(f'amount of rows: {df_graph.shape[0]}\\namount of columns:{df_graph.shape[1]}')"
   ]
  },
  {
   "cell_type": "markdown",
   "id": "523b066a",
   "metadata": {},
   "source": [
    "## If you want to have only the contributors in the rows and journeys in columns:"
   ]
  },
  {
   "cell_type": "markdown",
   "id": "8054eb55",
   "metadata": {},
   "source": [
    "### delete contributors from columns"
   ]
  },
  {
   "cell_type": "code",
   "execution_count": 68,
   "id": "f6311779",
   "metadata": {},
   "outputs": [],
   "source": [
    "for i in range(len(df_graph)-1, -1, -1):\n",
    "    if (lastWord(df_graph.columns[i]) == 'user') or (lastWord(df_graph.columns[i]) =='organization'):\n",
    "        df_graph = df_graph.drop(df_graph.columns[i], axis=1)"
   ]
  },
  {
   "cell_type": "code",
   "execution_count": 69,
   "id": "f8315cb5",
   "metadata": {},
   "outputs": [
    {
     "name": "stdout",
     "output_type": "stream",
     "text": [
      "amount of rows: 929\n",
      "amount of columns:421\n"
     ]
    }
   ],
   "source": [
    "df_graph.shape\n",
    "print(f'amount of rows: {df_graph.shape[0]}\\namount of columns:{df_graph.shape[1]}')"
   ]
  },
  {
   "cell_type": "markdown",
   "id": "0ace960d",
   "metadata": {},
   "source": [
    "### delete communities from rows"
   ]
  },
  {
   "cell_type": "code",
   "execution_count": 70,
   "id": "e7f755e0",
   "metadata": {},
   "outputs": [],
   "source": [
    "for i in range(len(df_graph)-1, -1, -1):\n",
    "    if (lastWord(df_graph.index[i]) == 'hub') or (lastWord(df_graph.index[i]) =='challenge') or (lastWord(df_graph.index[i]) =='opportunity'):\n",
    "        df_graph = df_graph.drop(df_graph.index[i])"
   ]
  },
  {
   "cell_type": "code",
   "execution_count": 71,
   "id": "013a3378",
   "metadata": {},
   "outputs": [
    {
     "name": "stdout",
     "output_type": "stream",
     "text": [
      "amount of rows: 508\n",
      "amount of columns:421\n"
     ]
    }
   ],
   "source": [
    "df_graph.shape\n",
    "print(f'amount of rows: {df_graph.shape[0]}\\namount of columns:{df_graph.shape[1]}')"
   ]
  },
  {
   "cell_type": "markdown",
   "id": "c79cb418",
   "metadata": {},
   "source": [
    "Now you have created a pandas dataframe with the contributors on the rows and the journeys on the columns. It shows which contributor has a connection with what journey. This dataframe is used as the base of making predictions for the recommendations. :)"
   ]
  }
 ],
 "metadata": {
  "kernelspec": {
   "display_name": "Python 3 (ipykernel)",
   "language": "python",
   "name": "python3"
  },
  "language_info": {
   "codemirror_mode": {
    "name": "ipython",
    "version": 3
   },
   "file_extension": ".py",
   "mimetype": "text/x-python",
   "name": "python",
   "nbconvert_exporter": "python",
   "pygments_lexer": "ipython3",
   "version": "3.9.15"
  }
 },
 "nbformat": 4,
 "nbformat_minor": 5
}
