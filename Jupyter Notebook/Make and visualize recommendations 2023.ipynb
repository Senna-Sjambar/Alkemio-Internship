{
 "cells": [
  {
   "cell_type": "markdown",
   "id": "0b531817",
   "metadata": {},
   "source": [
    "# Model: User-based with neighbors, weighted sum"
   ]
  },
  {
   "cell_type": "markdown",
   "id": "fd6603c4",
   "metadata": {},
   "source": [
    "import necessary library's and run functions notebook"
   ]
  },
  {
   "cell_type": "code",
   "execution_count": 17,
   "id": "3c9e8049",
   "metadata": {},
   "outputs": [],
   "source": [
    "import pandas as pd\n",
    "import matplotlib.pyplot as plt\n",
    "import networkx as nx\n",
    "from pyvis.network import Network\n",
    "import webbrowser\n",
    "import time"
   ]
  },
  {
   "cell_type": "code",
   "execution_count": 18,
   "id": "0cd7c7a6",
   "metadata": {},
   "outputs": [],
   "source": [
    "%run Functions_2023.ipynb"
   ]
  },
  {
   "cell_type": "code",
   "execution_count": 19,
   "id": "83693f76",
   "metadata": {},
   "outputs": [],
   "source": [
    "name = 'Senna Sjambar'"
   ]
  },
  {
   "cell_type": "code",
   "execution_count": 20,
   "id": "39f420d8",
   "metadata": {
    "scrolled": true
   },
   "outputs": [],
   "source": [
    "user_ID, user_items, neighbors, recommended = Recommendation(GetIDFromName(name))\n",
    "MakeVisual(user_ID, user_items, neighbors, recommended)"
   ]
  }
 ],
 "metadata": {
  "kernelspec": {
   "display_name": "Python 3",
   "language": "python",
   "name": "python3"
  },
  "language_info": {
   "codemirror_mode": {
    "name": "ipython",
    "version": 3
   },
   "file_extension": ".py",
   "mimetype": "text/x-python",
   "name": "python",
   "nbconvert_exporter": "python",
   "pygments_lexer": "ipython3",
   "version": "3.8.8"
  }
 },
 "nbformat": 4,
 "nbformat_minor": 5
}
