{
 "cells": [
  {
   "cell_type": "markdown",
   "id": "e74d0035",
   "metadata": {},
   "source": [
    "# Make recommendations to users and to communities"
   ]
  },
  {
   "cell_type": "code",
   "execution_count": null,
   "id": "691fdc08",
   "metadata": {},
   "outputs": [],
   "source": [
    "import pandas as pd\n",
    "import matplotlib.pyplot as plt\n",
    "import networkx as nx\n",
    "from pyvis.network import Network\n",
    "import webbrowser\n",
    "import time\n",
    "from collections import Counter"
   ]
  },
  {
   "cell_type": "code",
   "execution_count": null,
   "id": "d648a346",
   "metadata": {},
   "outputs": [],
   "source": [
    "%run Functions_7_juli_2023.ipynb"
   ]
  },
  {
   "cell_type": "code",
   "execution_count": null,
   "id": "dbd398e3",
   "metadata": {},
   "outputs": [],
   "source": [
    "df = pd.read_csv('Prediction matrix 22 mei 2023', index_col=0)"
   ]
  },
  {
   "cell_type": "markdown",
   "id": "9995753f",
   "metadata": {},
   "source": [
    "## Make recommendations to users"
   ]
  },
  {
   "cell_type": "code",
   "execution_count": null,
   "id": "12d4be9f",
   "metadata": {},
   "outputs": [],
   "source": [
    "name = 'displayName'"
   ]
  },
  {
   "cell_type": "code",
   "execution_count": null,
   "id": "10003231",
   "metadata": {},
   "outputs": [],
   "source": [
    "user_ID, user_items, neighbors, recommended = Recommendation(GetIDFromName(name))"
   ]
  },
  {
   "cell_type": "code",
   "execution_count": null,
   "id": "d03732cd",
   "metadata": {},
   "outputs": [],
   "source": [
    "MakeVisualSimone(user_ID, user_items, neighbors, recommended)"
   ]
  },
  {
   "cell_type": "markdown",
   "id": "a03c0760",
   "metadata": {},
   "source": [
    "## Make recommendations to communities"
   ]
  },
  {
   "cell_type": "code",
   "execution_count": null,
   "id": "e171f5a5",
   "metadata": {},
   "outputs": [],
   "source": [
    "name_community = 'displayName'"
   ]
  },
  {
   "cell_type": "code",
   "execution_count": null,
   "id": "daa4cb3f",
   "metadata": {
    "scrolled": true
   },
   "outputs": [],
   "source": [
    "community_ID, members, all_user_items, neighbors_total, recommended_com = RecommendtoCommunity(GetIDFromName(name_community), 30,50)"
   ]
  },
  {
   "cell_type": "code",
   "execution_count": null,
   "id": "446e62d8",
   "metadata": {},
   "outputs": [],
   "source": [
    "MakeVisualCommunity(community_ID, members, all_user_items, neighbors_total, recommended_com)"
   ]
  },
  {
   "cell_type": "code",
   "execution_count": null,
   "id": "7c28c5b1",
   "metadata": {},
   "outputs": [],
   "source": []
  }
 ],
 "metadata": {
  "kernelspec": {
   "display_name": "Python 3",
   "language": "python",
   "name": "python3"
  },
  "language_info": {
   "codemirror_mode": {
    "name": "ipython",
    "version": 3
   },
   "file_extension": ".py",
   "mimetype": "text/x-python",
   "name": "python",
   "nbconvert_exporter": "python",
   "pygments_lexer": "ipython3",
   "version": "3.8.8"
  }
 },
 "nbformat": 4,
 "nbformat_minor": 5
}
