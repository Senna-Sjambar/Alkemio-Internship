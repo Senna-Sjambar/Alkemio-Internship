{
 "cells": [
  {
   "cell_type": "markdown",
   "id": "acbf39a2",
   "metadata": {},
   "source": [
    "# Get the ID, name, group and type from the graph data"
   ]
  },
  {
   "cell_type": "code",
   "execution_count": 5,
   "id": "1d9749f8",
   "metadata": {},
   "outputs": [],
   "source": [
    "import pandas as pd"
   ]
  },
  {
   "cell_type": "code",
   "execution_count": 13,
   "id": "b6e75af9",
   "metadata": {},
   "outputs": [],
   "source": [
    "%run Functions.ipynb"
   ]
  },
  {
   "cell_type": "code",
   "execution_count": 6,
   "id": "3ddc7b22",
   "metadata": {},
   "outputs": [],
   "source": [
    "data = pd.read_csv('data_graph_matrix_2023.csv', index_col=0)"
   ]
  },
  {
   "cell_type": "markdown",
   "id": "0906ca94",
   "metadata": {},
   "source": [
    "From the source nodes get the source ID, name and group"
   ]
  },
  {
   "cell_type": "code",
   "execution_count": 8,
   "id": "47c7d0b3",
   "metadata": {},
   "outputs": [],
   "source": [
    "source = data.loc[:, ['source', 'name Source', 'group Source']]\n",
    "source.drop_duplicates(subset=['source'], keep='first', inplace=True)\n",
    "source=source.reset_index()\n",
    "source=source.drop('index', axis=1)\n",
    "source = source.rename(columns={'source':'ID', 'name Source':'name', 'group Source':'group'})"
   ]
  },
  {
   "cell_type": "markdown",
   "id": "db679c1d",
   "metadata": {},
   "source": [
    "From the target nodes get the target ID, name and group"
   ]
  },
  {
   "cell_type": "code",
   "execution_count": 9,
   "id": "ec79e1ba",
   "metadata": {},
   "outputs": [],
   "source": [
    "target = data.loc[:, ['target', 'name Target', 'group Target']]\n",
    "target.drop_duplicates(subset=['target'], keep='first', inplace=True)\n",
    "target=target.reset_index()\n",
    "target=target.drop('index', axis=1)\n",
    "target = target.rename(columns={'target':'ID', 'name Target':'name', 'group Target':'group'})"
   ]
  },
  {
   "cell_type": "code",
   "execution_count": 16,
   "id": "82c34605",
   "metadata": {},
   "outputs": [
    {
     "data": {
      "text/html": [
       "<div>\n",
       "<style scoped>\n",
       "    .dataframe tbody tr th:only-of-type {\n",
       "        vertical-align: middle;\n",
       "    }\n",
       "\n",
       "    .dataframe tbody tr th {\n",
       "        vertical-align: top;\n",
       "    }\n",
       "\n",
       "    .dataframe thead th {\n",
       "        text-align: right;\n",
       "    }\n",
       "</style>\n",
       "<table border=\"1\" class=\"dataframe\">\n",
       "  <thead>\n",
       "    <tr style=\"text-align: right;\">\n",
       "      <th></th>\n",
       "      <th>ID</th>\n",
       "      <th>name</th>\n",
       "      <th>group</th>\n",
       "    </tr>\n",
       "  </thead>\n",
       "  <tbody>\n",
       "    <tr>\n",
       "      <th>147</th>\n",
       "      <td>02e86cd9-9af4-40d8-9702-21c89264aa02</td>\n",
       "      <td>Manufacturers opportunity</td>\n",
       "      <td>98f5c5b6-ec04-4360-89ca-d39aab69c4a8</td>\n",
       "    </tr>\n",
       "    <tr>\n",
       "      <th>150</th>\n",
       "      <td>363eeb7c-b3f2-4d18-94de-2895a32d97bc</td>\n",
       "      <td>Manufacturers opportunity</td>\n",
       "      <td>98f5c5b6-ec04-4360-89ca-d39aab69c4a8</td>\n",
       "    </tr>\n",
       "    <tr>\n",
       "      <th>152</th>\n",
       "      <td>9a842abe-bcdd-40b6-9153-6c9be69ac7b1</td>\n",
       "      <td>Costs opportunity</td>\n",
       "      <td>98f5c5b6-ec04-4360-89ca-d39aab69c4a8</td>\n",
       "    </tr>\n",
       "  </tbody>\n",
       "</table>\n",
       "</div>"
      ],
      "text/plain": [
       "                                       ID                       name  \\\n",
       "147  02e86cd9-9af4-40d8-9702-21c89264aa02  Manufacturers opportunity   \n",
       "150  363eeb7c-b3f2-4d18-94de-2895a32d97bc  Manufacturers opportunity   \n",
       "152  9a842abe-bcdd-40b6-9153-6c9be69ac7b1          Costs opportunity   \n",
       "\n",
       "                                    group  \n",
       "147  98f5c5b6-ec04-4360-89ca-d39aab69c4a8  \n",
       "150  98f5c5b6-ec04-4360-89ca-d39aab69c4a8  \n",
       "152  98f5c5b6-ec04-4360-89ca-d39aab69c4a8  "
      ]
     },
     "execution_count": 16,
     "metadata": {},
     "output_type": "execute_result"
    }
   ],
   "source": [
    "target[target['name'].duplicated()]"
   ]
  },
  {
   "cell_type": "markdown",
   "id": "9ea41a76",
   "metadata": {},
   "source": [
    "Combine the source and target dataframe"
   ]
  },
  {
   "cell_type": "code",
   "execution_count": 10,
   "id": "2abc5780",
   "metadata": {},
   "outputs": [],
   "source": [
    "combined = pd.concat([source, target], ignore_index=True)"
   ]
  },
  {
   "cell_type": "markdown",
   "id": "27e6a121",
   "metadata": {},
   "source": [
    "drop the duplicated ID"
   ]
  },
  {
   "cell_type": "code",
   "execution_count": 12,
   "id": "cd658b28",
   "metadata": {},
   "outputs": [],
   "source": [
    "combined.drop_duplicates(subset=['ID'], keep='first', inplace=True)\n",
    "combined=combined.reset_index()\n",
    "combined=combined.drop('index', axis=1)"
   ]
  },
  {
   "cell_type": "code",
   "execution_count": 14,
   "id": "cd425858",
   "metadata": {},
   "outputs": [],
   "source": [
    "combined['type'] = 0"
   ]
  },
  {
   "cell_type": "code",
   "execution_count": 18,
   "id": "8245eb51",
   "metadata": {},
   "outputs": [],
   "source": [
    "for i in range(len(combined)):\n",
    "    type = lastWord(combined['name'].iloc[i])\n",
    "    name = combined['name'].iloc[i]\n",
    "    combined['type'].iloc[i] = type\n",
    "    combined['name'].iloc[i] = name[:-len(lastWord(name))-1]"
   ]
  },
  {
   "cell_type": "markdown",
   "id": "c57d4dc2",
   "metadata": {},
   "source": [
    "Save the dataframe"
   ]
  },
  {
   "cell_type": "code",
   "execution_count": 27,
   "id": "28d72763",
   "metadata": {},
   "outputs": [],
   "source": [
    "combined.to_csv('ID_name_group_type_2023.csv')"
   ]
  }
 ],
 "metadata": {
  "kernelspec": {
   "display_name": "Python 3",
   "language": "python",
   "name": "python3"
  },
  "language_info": {
   "codemirror_mode": {
    "name": "ipython",
    "version": 3
   },
   "file_extension": ".py",
   "mimetype": "text/x-python",
   "name": "python",
   "nbconvert_exporter": "python",
   "pygments_lexer": "ipython3",
   "version": "3.8.8"
  }
 },
 "nbformat": 4,
 "nbformat_minor": 5
}
